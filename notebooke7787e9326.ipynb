{
  "metadata": {
    "kernelspec": {
      "name": "python3",
      "display_name": "Python 3",
      "language": "python"
    },
    "language_info": {
      "name": "python",
      "version": "3.10.13",
      "mimetype": "text/x-python",
      "codemirror_mode": {
        "name": "ipython",
        "version": 3
      },
      "pygments_lexer": "ipython3",
      "nbconvert_exporter": "python",
      "file_extension": ".py"
    },
    "colab": {
      "provenance": [],
      "name": "notebooke7787e9326"
    },
    "kaggle": {
      "accelerator": "gpu",
      "dataSources": [
        {
          "sourceId": 2157,
          "sourceType": "datasetVersion",
          "datasetId": 18
        },
        {
          "sourceId": 8196682,
          "sourceType": "datasetVersion",
          "datasetId": 4855174
        }
      ],
      "dockerImageVersionId": 30699,
      "isInternetEnabled": true,
      "language": "python",
      "sourceType": "notebook",
      "isGpuEnabled": true
    }
  },
  "nbformat_minor": 5,
  "nbformat": 4,
  "cells": [
    {
      "source": [
        "\n",
        "# IMPORTANT: RUN THIS CELL IN ORDER TO IMPORT YOUR KAGGLE DATA SOURCES\n",
        "# TO THE CORRECT LOCATION (/kaggle/input) IN YOUR NOTEBOOK,\n",
        "# THEN FEEL FREE TO DELETE THIS CELL.\n",
        "# NOTE: THIS NOTEBOOK ENVIRONMENT DIFFERS FROM KAGGLE'S PYTHON\n",
        "# ENVIRONMENT SO THERE MAY BE MISSING LIBRARIES USED BY YOUR\n",
        "# NOTEBOOK.\n",
        "\n",
        "import os\n",
        "import sys\n",
        "from tempfile import NamedTemporaryFile\n",
        "from urllib.request import urlopen\n",
        "from urllib.parse import unquote, urlparse\n",
        "from urllib.error import HTTPError\n",
        "from zipfile import ZipFile\n",
        "import tarfile\n",
        "import shutil\n",
        "\n",
        "CHUNK_SIZE = 40960\n",
        "DATA_SOURCE_MAPPING = 'amazon-fine-food-reviews:https%3A%2F%2Fstorage.googleapis.com%2Fkaggle-data-sets%2F18%2F2157%2Fbundle%2Farchive.zip%3FX-Goog-Algorithm%3DGOOG4-RSA-SHA256%26X-Goog-Credential%3Dgcp-kaggle-com%2540kaggle-161607.iam.gserviceaccount.com%252F20240422%252Fauto%252Fstorage%252Fgoog4_request%26X-Goog-Date%3D20240422T220253Z%26X-Goog-Expires%3D259200%26X-Goog-SignedHeaders%3Dhost%26X-Goog-Signature%3Db8c205729ef930a3fb01702979da61ce7c4f46f8e4c0e2f6e6417cbc26ca2027c445791f39505badfaace6c3a2975b046d4ce171062230b61abf7a97dae1bb6f3c48c2c79d0ddd05413680860775b1a14c510c82d683ce0a897293343944b9ba52b4ead2b3451eb248b0ad3bbcea3d53c26b5e7c7f578483c71abd29b96ff3caebe9da41ee2ab07b7bc56edcb3a01c9940e94611a74945af88430e8ff38f148c0edb0900aa209c4d6e140eef3e29532dd1f7d83d48cc363e5e2807a116331004fc12df7fb9f057f56cc76b180cf1c70a3f877905d7902772c7369ddeb5a235f503aba924f5beae30a0e9d8d85c13edb846de3bf70c843b4a933cd09e7a7c11d1,preprocessedd:https%3A%2F%2Fstorage.googleapis.com%2Fkaggle-data-sets%2F4855174%2F8196682%2Fbundle%2Farchive.zip%3FX-Goog-Algorithm%3DGOOG4-RSA-SHA256%26X-Goog-Credential%3Dgcp-kaggle-com%2540kaggle-161607.iam.gserviceaccount.com%252F20240422%252Fauto%252Fstorage%252Fgoog4_request%26X-Goog-Date%3D20240422T220253Z%26X-Goog-Expires%3D259200%26X-Goog-SignedHeaders%3Dhost%26X-Goog-Signature%3D6467c152f4cd622c8b188ebf7cd8933ba3b3553cc974a13c576b6fc464f19690d9b0cedda5cf2a531cf1cb1d8613052abb49a65e0efb4c32b903b84fb245f62e455c95b143b657fed7684d03a6f3cb85f959ce5d3d8ef97965ccc92584e4cf2d8ee865fbf7a5cd81d7988adb9cabfdb5a9b0d0fa833e81fc0e7fc76e7c8a74910b29e619d857dc203961bedc298a29d79d84ec217ba8af60d4dc72df24b426c42eb872873f350f209255ffe3e615c64a85f7a1ab9bf7f3595572370b304d9b683058b8af42c07e70b498f3f2b6166b875e2b405e48e6285d6ea34d12ab61b5613fd5287dd68b16435e658686feb83697398f9c671c08917ce5f80112290fb1bd'\n",
        "\n",
        "KAGGLE_INPUT_PATH='/kaggle/input'\n",
        "KAGGLE_WORKING_PATH='/kaggle/working'\n",
        "KAGGLE_SYMLINK='kaggle'\n",
        "\n",
        "!umount /kaggle/input/ 2> /dev/null\n",
        "shutil.rmtree('/kaggle/input', ignore_errors=True)\n",
        "os.makedirs(KAGGLE_INPUT_PATH, 0o777, exist_ok=True)\n",
        "os.makedirs(KAGGLE_WORKING_PATH, 0o777, exist_ok=True)\n",
        "\n",
        "try:\n",
        "  os.symlink(KAGGLE_INPUT_PATH, os.path.join(\"..\", 'input'), target_is_directory=True)\n",
        "except FileExistsError:\n",
        "  pass\n",
        "try:\n",
        "  os.symlink(KAGGLE_WORKING_PATH, os.path.join(\"..\", 'working'), target_is_directory=True)\n",
        "except FileExistsError:\n",
        "  pass\n",
        "\n",
        "for data_source_mapping in DATA_SOURCE_MAPPING.split(','):\n",
        "    directory, download_url_encoded = data_source_mapping.split(':')\n",
        "    download_url = unquote(download_url_encoded)\n",
        "    filename = urlparse(download_url).path\n",
        "    destination_path = os.path.join(KAGGLE_INPUT_PATH, directory)\n",
        "    try:\n",
        "        with urlopen(download_url) as fileres, NamedTemporaryFile() as tfile:\n",
        "            total_length = fileres.headers['content-length']\n",
        "            print(f'Downloading {directory}, {total_length} bytes compressed')\n",
        "            dl = 0\n",
        "            data = fileres.read(CHUNK_SIZE)\n",
        "            while len(data) > 0:\n",
        "                dl += len(data)\n",
        "                tfile.write(data)\n",
        "                done = int(50 * dl / int(total_length))\n",
        "                sys.stdout.write(f\"\\r[{'=' * done}{' ' * (50-done)}] {dl} bytes downloaded\")\n",
        "                sys.stdout.flush()\n",
        "                data = fileres.read(CHUNK_SIZE)\n",
        "            if filename.endswith('.zip'):\n",
        "              with ZipFile(tfile) as zfile:\n",
        "                zfile.extractall(destination_path)\n",
        "            else:\n",
        "              with tarfile.open(tfile.name) as tarfile:\n",
        "                tarfile.extractall(destination_path)\n",
        "            print(f'\\nDownloaded and uncompressed: {directory}')\n",
        "    except HTTPError as e:\n",
        "        print(f'Failed to load (likely expired) {download_url} to path {destination_path}')\n",
        "        continue\n",
        "    except OSError as e:\n",
        "        print(f'Failed to load {download_url} to path {destination_path}')\n",
        "        continue\n",
        "\n",
        "print('Data source import complete.')\n"
      ],
      "metadata": {
        "id": "FZXwtlFo1W3r"
      },
      "cell_type": "code",
      "outputs": [],
      "execution_count": null,
      "id": "FZXwtlFo1W3r"
    },
    {
      "cell_type": "code",
      "source": [],
      "metadata": {
        "id": "e9df7dd4-d509-4833-b058-e5d81cc61dc4"
      },
      "execution_count": null,
      "outputs": [],
      "id": "e9df7dd4-d509-4833-b058-e5d81cc61dc4"
    },
    {
      "cell_type": "code",
      "source": [
        "import torch\n",
        "import pandas as pd\n",
        "import os\n",
        "import numpy as np\n",
        "import nltk\n",
        "import re\n",
        "import string\n",
        "import pickle\n",
        "from nltk.tokenize import word_tokenize\n",
        "from nltk.corpus import stopwords\n",
        "from collections import defaultdict\n",
        "import math\n",
        "from sklearn.preprocessing import StandardScaler\n",
        "from bs4 import BeautifulSoup\n",
        "import warnings\n",
        "\n",
        "# Suppress warnings\n",
        "warnings.filterwarnings(\"ignore\")\n",
        "warnings.filterwarnings(\"ignore\", category=UserWarning, module=\"transformers\")\n",
        "\n",
        "# Download NLTK stopwords if not already downloaded\n",
        "nltk.download('stopwords')\n"
      ],
      "metadata": {
        "colab": {
          "base_uri": "https://localhost:8080/"
        },
        "id": "d17cd471-6ccc-4714-a4e3-bb4440bf9715",
        "outputId": "8bb27be6-cb77-4c37-d9ed-34887b3dd4bb",
        "execution": {
          "iopub.status.busy": "2024-04-22T19:46:54.785537Z",
          "iopub.execute_input": "2024-04-22T19:46:54.786348Z",
          "iopub.status.idle": "2024-04-22T19:46:54.795243Z",
          "shell.execute_reply.started": "2024-04-22T19:46:54.786319Z",
          "shell.execute_reply": "2024-04-22T19:46:54.794361Z"
        },
        "trusted": true
      },
      "execution_count": null,
      "outputs": [
        {
          "name": "stdout",
          "text": "[nltk_data] Downloading package stopwords to /usr/share/nltk_data...\n[nltk_data]   Package stopwords is already up-to-date!\n",
          "output_type": "stream"
        },
        {
          "execution_count": 21,
          "output_type": "execute_result",
          "data": {
            "text/plain": "True"
          },
          "metadata": {}
        }
      ],
      "id": "d17cd471-6ccc-4714-a4e3-bb4440bf9715"
    },
    {
      "cell_type": "code",
      "source": [],
      "metadata": {
        "id": "hx_t8prZR7JM"
      },
      "execution_count": null,
      "outputs": [],
      "id": "hx_t8prZR7JM"
    },
    {
      "cell_type": "code",
      "source": [
        "df = pd.read_csv(\"/kaggle/input/amazon-fine-food-reviews/Reviews.csv\")[:40000]\n",
        "\n",
        "df.head"
      ],
      "metadata": {
        "id": "9334d926-b86c-4131-b9d4-5a5af7aaf61f",
        "outputId": "86d5b83d-58ae-4c89-c399-a975a1f2920a",
        "execution": {
          "iopub.status.busy": "2024-04-22T19:46:57.109724Z",
          "iopub.execute_input": "2024-04-22T19:46:57.110111Z",
          "iopub.status.idle": "2024-04-22T19:47:00.754667Z",
          "shell.execute_reply.started": "2024-04-22T19:46:57.110063Z",
          "shell.execute_reply": "2024-04-22T19:47:00.753727Z"
        },
        "trusted": true
      },
      "execution_count": null,
      "outputs": [
        {
          "execution_count": 22,
          "output_type": "execute_result",
          "data": {
            "text/plain": "<bound method NDFrame.head of           Id   ProductId          UserId                      ProfileName  \\\n0          1  B001E4KFG0  A3SGXH7AUHU8GW                       delmartian   \n1          2  B00813GRG4  A1D87F6ZCVE5NK                           dll pa   \n2          3  B000LQOCH0   ABXLMWJIXXAIN  Natalia Corres \"Natalia Corres\"   \n3          4  B000UA0QIQ  A395BORC6FGVXV                             Karl   \n4          5  B006K2ZZ7K  A1UQRSCLF8GW1T    Michael D. Bigham \"M. Wassir\"   \n...      ...         ...             ...                              ...   \n39995  39996  B00017LEY8  A2V2FL4XWQ3TU4                              kes   \n39996  39997  B00017LEY8   AHNWS8JUU0D48       Jack Parker \"photographer\"   \n39997  39998  B00017LEY8  A36G9KA8FGCVS1                       John ONeal   \n39998  39999  B00017LEY8  A1DCZ61SUGL12H                          Shayrul   \n39999  40000  B00017LEY8    ANVO82YEQNCD                          Russ K.   \n\n       HelpfulnessNumerator  HelpfulnessDenominator  Score        Time  \\\n0                         1                       1      5  1303862400   \n1                         0                       0      1  1346976000   \n2                         1                       1      4  1219017600   \n3                         3                       3      2  1307923200   \n4                         0                       0      5  1350777600   \n...                     ...                     ...    ...         ...   \n39995                     4                       4      5  1219968000   \n39996                     3                       3      5  1223251200   \n39997                     2                       2      5  1286755200   \n39998                     2                       2      4  1281830400   \n39999                     2                       2      4  1281312000   \n\n                        Summary  \\\n0         Good Quality Dog Food   \n1             Not as Advertised   \n2         \"Delight\" says it all   \n3                Cough Medicine   \n4                   Great taffy   \n...                         ...   \n39995  Best popcorn, hands down   \n39996                 BEST EVER   \n39997     ALL popcorn has hulls   \n39998       Not for air poppers   \n39999               Cornlicious   \n\n                                                    Text  \n0      I have bought several of the Vitality canned d...  \n1      Product arrived labeled as Jumbo Salted Peanut...  \n2      This is a confection that has been around a fe...  \n3      If you are looking for the secret ingredient i...  \n4      Great taffy at a great price.  There was a wid...  \n...                                                  ...  \n39995  I've tried a wide variety of popcorns, and gen...  \n39996  I am unable to buy \"hulless\" popcorn in my are...  \n39997  Even \"no hull\" popcorn has hulls.  It has to s...  \n39998  When I bought this popcorn, it was because Ama...  \n39999  I was interested with the fact that this popco...  \n\n[40000 rows x 10 columns]>"
          },
          "metadata": {}
        }
      ],
      "id": "9334d926-b86c-4131-b9d4-5a5af7aaf61f"
    },
    {
      "cell_type": "code",
      "source": [
        "columns = [\"Id\",\"ProductId\",\"UserId\",\"ProfileName\",\"HelpfulnessNumerator\",\"HelpfulnessDenominator\",\"Score\",\"Time\"]\n",
        "\n",
        "df = df.drop(columns=columns)"
      ],
      "metadata": {
        "id": "8e5076a5-c914-4508-9c87-5a051bee0c8e",
        "execution": {
          "iopub.status.busy": "2024-04-22T19:47:00.756579Z",
          "iopub.execute_input": "2024-04-22T19:47:00.756959Z",
          "iopub.status.idle": "2024-04-22T19:47:00.76346Z",
          "shell.execute_reply.started": "2024-04-22T19:47:00.756924Z",
          "shell.execute_reply": "2024-04-22T19:47:00.762588Z"
        },
        "trusted": true
      },
      "execution_count": null,
      "outputs": [],
      "id": "8e5076a5-c914-4508-9c87-5a051bee0c8e"
    },
    {
      "cell_type": "code",
      "source": [
        "\n",
        "\n",
        "\n",
        "from bs4 import BeautifulSoup\n",
        "from nltk.tokenize import word_tokenize\n",
        "from nltk.corpus import stopwords\n",
        "import re\n",
        "\n",
        "def lowercase_text(text):\n",
        "    soup = BeautifulSoup(text, \"html.parser\")\n",
        "    return soup.get_text().lower()\n",
        "\n",
        "def remove_stopwords(tokens):\n",
        "    return [word for word in tokens if word not in stopwords.words('english')]\n",
        "\n",
        "def preprocess_text_pipeline(text):\n",
        "    # Check if the text is a string\n",
        "    if not isinstance(text, str):\n",
        "        return ''  # Return an empty string for non-string inputs\n",
        "\n",
        "    text = lowercase_text(text)\n",
        "    tokens = word_tokenize(text)\n",
        "    tokens = remove_stopwords(tokens)\n",
        "    return ' '.join(tokens)\n"
      ],
      "metadata": {
        "id": "a1eb53ef-1533-44dc-b4ca-6fa2fe635c65",
        "execution": {
          "iopub.status.busy": "2024-04-22T19:47:01.946274Z",
          "iopub.execute_input": "2024-04-22T19:47:01.947063Z",
          "iopub.status.idle": "2024-04-22T19:47:01.955482Z",
          "shell.execute_reply.started": "2024-04-22T19:47:01.947032Z",
          "shell.execute_reply": "2024-04-22T19:47:01.954469Z"
        },
        "trusted": true
      },
      "execution_count": null,
      "outputs": [],
      "id": "a1eb53ef-1533-44dc-b4ca-6fa2fe635c65"
    },
    {
      "cell_type": "code",
      "source": [
        "\n",
        "df['Text'] = df['Text'].apply(preprocess_text_pipeline)\n",
        "\n",
        "df = df.dropna(subset=['Text', 'Summary'])\n",
        "\n",
        "df.head()"
      ],
      "metadata": {
        "id": "8ae2b976-0ad1-43b1-bd91-b48bcb686cfe",
        "outputId": "8dd896fc-47c7-4318-c807-66f774f507c5",
        "execution": {
          "iopub.status.busy": "2024-04-22T19:54:51.488286Z",
          "iopub.execute_input": "2024-04-22T19:54:51.488602Z",
          "iopub.status.idle": "2024-04-22T19:59:30.915403Z",
          "shell.execute_reply.started": "2024-04-22T19:54:51.488576Z",
          "shell.execute_reply": "2024-04-22T19:59:30.914436Z"
        },
        "trusted": true
      },
      "execution_count": null,
      "outputs": [
        {
          "execution_count": 26,
          "output_type": "execute_result",
          "data": {
            "text/plain": "                 Summary                                               Text\n0  Good Quality Dog Food  bought several vitality canned dog food produc...\n1      Not as Advertised  product arrived labeled jumbo salted peanuts ....\n2  \"Delight\" says it all  confection around centuries . light , pillowy ...\n3         Cough Medicine  looking secret ingredient robitussin believe f...\n4            Great taffy  great taffy great price . wide assortment yumm...",
            "text/html": "<div>\n<style scoped>\n    .dataframe tbody tr th:only-of-type {\n        vertical-align: middle;\n    }\n\n    .dataframe tbody tr th {\n        vertical-align: top;\n    }\n\n    .dataframe thead th {\n        text-align: right;\n    }\n</style>\n<table border=\"1\" class=\"dataframe\">\n  <thead>\n    <tr style=\"text-align: right;\">\n      <th></th>\n      <th>Summary</th>\n      <th>Text</th>\n    </tr>\n  </thead>\n  <tbody>\n    <tr>\n      <th>0</th>\n      <td>Good Quality Dog Food</td>\n      <td>bought several vitality canned dog food produc...</td>\n    </tr>\n    <tr>\n      <th>1</th>\n      <td>Not as Advertised</td>\n      <td>product arrived labeled jumbo salted peanuts ....</td>\n    </tr>\n    <tr>\n      <th>2</th>\n      <td>\"Delight\" says it all</td>\n      <td>confection around centuries . light , pillowy ...</td>\n    </tr>\n    <tr>\n      <th>3</th>\n      <td>Cough Medicine</td>\n      <td>looking secret ingredient robitussin believe f...</td>\n    </tr>\n    <tr>\n      <th>4</th>\n      <td>Great taffy</td>\n      <td>great taffy great price . wide assortment yumm...</td>\n    </tr>\n  </tbody>\n</table>\n</div>"
          },
          "metadata": {}
        }
      ],
      "id": "8ae2b976-0ad1-43b1-bd91-b48bcb686cfe"
    },
    {
      "cell_type": "code",
      "source": [
        "\n",
        "# Save DataFrame to a pickle file\n",
        "pickle_file_path = 'preprocessed_data.pkl'\n",
        "df.to_pickle(pickle_file_path)\n",
        "\n",
        "# Check the first few rows of the DataFrame\n",
        "print(df.head())\n"
      ],
      "metadata": {
        "execution": {
          "iopub.status.busy": "2024-04-22T19:59:30.916685Z",
          "iopub.execute_input": "2024-04-22T19:59:30.917063Z",
          "iopub.status.idle": "2024-04-22T19:59:30.958785Z",
          "shell.execute_reply.started": "2024-04-22T19:59:30.917032Z",
          "shell.execute_reply": "2024-04-22T19:59:30.957915Z"
        },
        "trusted": true,
        "id": "ONPDg8Dg1W4F",
        "outputId": "6d52ee1a-02b3-47de-9a90-a831a99e47b6"
      },
      "execution_count": null,
      "outputs": [
        {
          "name": "stdout",
          "text": "                 Summary                                               Text\n0  Good Quality Dog Food  bought several vitality canned dog food produc...\n1      Not as Advertised  product arrived labeled jumbo salted peanuts ....\n2  \"Delight\" says it all  confection around centuries . light , pillowy ...\n3         Cough Medicine  looking secret ingredient robitussin believe f...\n4            Great taffy  great taffy great price . wide assortment yumm...\n",
          "output_type": "stream"
        }
      ],
      "id": "ONPDg8Dg1W4F"
    },
    {
      "cell_type": "code",
      "source": [
        "from sklearn.model_selection import train_test_split\n",
        "train_df, test_df = train_test_split(df, test_size=0.25, random_state=42)"
      ],
      "metadata": {
        "id": "e4120055-673e-4d0e-983e-e8bd3c5f58c4",
        "execution": {
          "iopub.status.busy": "2024-04-22T19:59:30.961375Z",
          "iopub.execute_input": "2024-04-22T19:59:30.96199Z",
          "iopub.status.idle": "2024-04-22T19:59:30.970435Z",
          "shell.execute_reply.started": "2024-04-22T19:59:30.961959Z",
          "shell.execute_reply": "2024-04-22T19:59:30.969784Z"
        },
        "trusted": true
      },
      "execution_count": null,
      "outputs": [],
      "id": "e4120055-673e-4d0e-983e-e8bd3c5f58c4"
    },
    {
      "cell_type": "code",
      "source": [
        "class CustomDataset(torch.utils.data.Dataset):\n",
        "    def __init__(self, data, tokenizer, max_length=70):\n",
        "        self.data = data\n",
        "        self.tokenizer = tokenizer\n",
        "        self.max_length = max_length\n",
        "        self.sep_token = \"TL;DR\"  # Set TL;DR as the separator token\n",
        "\n",
        "    def __len__(self):\n",
        "        return len(self.data)\n",
        "\n",
        "    def __getitem__(self, index):\n",
        "        text = self.data.iloc[index]['Text']\n",
        "        summary = self.data.iloc[index]['Summary']\n",
        "\n",
        "        # Add TL;DR separator between text and summary\n",
        "        concatenated_text = f\"{text} {self.sep_token} {summary}\"\n",
        "\n",
        "        inputs = self.tokenizer.encode_plus(\n",
        "            concatenated_text,\n",
        "            max_length=self.max_length,\n",
        "            padding='max_length',\n",
        "            truncation=True,\n",
        "            return_tensors='pt',\n",
        "        )\n",
        "\n",
        "        input_ids = inputs['input_ids'].squeeze()\n",
        "        attention_mask = inputs['attention_mask'].squeeze()\n",
        "\n",
        "        return {\n",
        "            'input_ids': input_ids,\n",
        "            'attention_mask': attention_mask,\n",
        "            'label': summary\n",
        "        }"
      ],
      "metadata": {
        "id": "ccc30e55-d1f2-4ed1-9181-f42bb158bf78",
        "execution": {
          "iopub.status.busy": "2024-04-22T19:59:30.971463Z",
          "iopub.execute_input": "2024-04-22T19:59:30.971722Z",
          "iopub.status.idle": "2024-04-22T19:59:30.980929Z",
          "shell.execute_reply.started": "2024-04-22T19:59:30.971671Z",
          "shell.execute_reply": "2024-04-22T19:59:30.980114Z"
        },
        "trusted": true
      },
      "execution_count": null,
      "outputs": [],
      "id": "ccc30e55-d1f2-4ed1-9181-f42bb158bf78"
    },
    {
      "cell_type": "code",
      "source": [],
      "metadata": {
        "id": "a8edacc5-1f37-4f95-8120-2de46dd62251",
        "execution": {
          "iopub.status.busy": "2024-04-22T19:14:37.323973Z",
          "iopub.execute_input": "2024-04-22T19:14:37.324269Z",
          "iopub.status.idle": "2024-04-22T19:14:37.336945Z",
          "shell.execute_reply.started": "2024-04-22T19:14:37.324246Z",
          "shell.execute_reply": "2024-04-22T19:14:37.33605Z"
        },
        "trusted": true
      },
      "execution_count": null,
      "outputs": [],
      "id": "a8edacc5-1f37-4f95-8120-2de46dd62251"
    },
    {
      "cell_type": "code",
      "source": [
        "from transformers import GPT2Tokenizer, GPT2LMHeadModel\n",
        "\n",
        "# Initialize the GPT-2 tokenizer\n",
        "tokenizer = GPT2Tokenizer.from_pretrained(\"gpt2\")\n",
        "tokenizer.pad_token = tokenizer.eos_token\n",
        "\n",
        "# Initialize the GPT-2 model\n",
        "model = GPT2LMHeadModel.from_pretrained(\"gpt2\")"
      ],
      "metadata": {
        "id": "cae2d4e0-23f3-4563-a5eb-dc822fbdf82e",
        "execution": {
          "iopub.status.busy": "2024-04-22T19:59:30.983475Z",
          "iopub.execute_input": "2024-04-22T19:59:30.983716Z",
          "iopub.status.idle": "2024-04-22T19:59:32.006132Z",
          "shell.execute_reply.started": "2024-04-22T19:59:30.983695Z",
          "shell.execute_reply": "2024-04-22T19:59:32.005284Z"
        },
        "trusted": true
      },
      "execution_count": null,
      "outputs": [],
      "id": "cae2d4e0-23f3-4563-a5eb-dc822fbdf82e"
    },
    {
      "cell_type": "code",
      "source": [
        "train_dataset = CustomDataset(train_df, tokenizer)\n",
        "test_dataset = CustomDataset(test_df, tokenizer)"
      ],
      "metadata": {
        "id": "afe32fa7-4189-4454-93b3-66e52824f324",
        "execution": {
          "iopub.status.busy": "2024-04-22T19:59:32.007237Z",
          "iopub.execute_input": "2024-04-22T19:59:32.007512Z",
          "iopub.status.idle": "2024-04-22T19:59:32.011831Z",
          "shell.execute_reply.started": "2024-04-22T19:59:32.007488Z",
          "shell.execute_reply": "2024-04-22T19:59:32.010941Z"
        },
        "trusted": true
      },
      "execution_count": null,
      "outputs": [],
      "id": "afe32fa7-4189-4454-93b3-66e52824f324"
    },
    {
      "cell_type": "code",
      "source": [
        "from torch.utils.data import DataLoader\n",
        "\n",
        "batch_size = 45\n",
        "\n",
        "# Create DataLoader\n",
        "train_loader = DataLoader(train_dataset, batch_size=batch_size)\n",
        "test_loader = DataLoader(test_dataset, batch_size=batch_size)"
      ],
      "metadata": {
        "id": "447a4f79-70f3-4610-86d0-f9517b22e0aa",
        "execution": {
          "iopub.status.busy": "2024-04-22T19:59:32.013162Z",
          "iopub.execute_input": "2024-04-22T19:59:32.013515Z",
          "iopub.status.idle": "2024-04-22T19:59:32.030012Z",
          "shell.execute_reply.started": "2024-04-22T19:59:32.013485Z",
          "shell.execute_reply": "2024-04-22T19:59:32.029229Z"
        },
        "trusted": true
      },
      "execution_count": null,
      "outputs": [],
      "id": "447a4f79-70f3-4610-86d0-f9517b22e0aa"
    },
    {
      "cell_type": "code",
      "source": [
        "# Print the number of training and testing samples\n",
        "print(f\"Number of training samples: {len(train_dataset)}\")\n",
        "print(f\"Number of testing samples: {len(test_dataset)}\")"
      ],
      "metadata": {
        "id": "e1fbb53e-a10b-4ff8-bdab-ca859ea85559",
        "outputId": "c9f746ca-30fa-4147-a0ad-baa566d5692c",
        "execution": {
          "iopub.status.busy": "2024-04-22T19:59:32.031374Z",
          "iopub.execute_input": "2024-04-22T19:59:32.032194Z",
          "iopub.status.idle": "2024-04-22T19:59:32.040667Z",
          "shell.execute_reply.started": "2024-04-22T19:59:32.032168Z",
          "shell.execute_reply": "2024-04-22T19:59:32.039703Z"
        },
        "trusted": true
      },
      "execution_count": null,
      "outputs": [
        {
          "name": "stdout",
          "text": "Number of training samples: 29999\nNumber of testing samples: 10000\n",
          "output_type": "stream"
        }
      ],
      "id": "e1fbb53e-a10b-4ff8-bdab-ca859ea85559"
    },
    {
      "cell_type": "code",
      "source": [],
      "metadata": {
        "id": "cebbf1ef-9a21-4bc4-8195-8591941e12b9",
        "execution": {
          "iopub.status.busy": "2024-04-22T19:59:32.043646Z",
          "iopub.execute_input": "2024-04-22T19:59:32.043987Z",
          "iopub.status.idle": "2024-04-22T19:59:32.050851Z",
          "shell.execute_reply.started": "2024-04-22T19:59:32.043958Z",
          "shell.execute_reply": "2024-04-22T19:59:32.04979Z"
        },
        "jupyter": {
          "source_hidden": true
        },
        "trusted": true
      },
      "execution_count": null,
      "outputs": [],
      "id": "cebbf1ef-9a21-4bc4-8195-8591941e12b9"
    },
    {
      "cell_type": "code",
      "source": [],
      "metadata": {
        "id": "c66b5d82-6abe-427c-bb40-74ad7dd2b984",
        "jupyter": {
          "source_hidden": true
        }
      },
      "execution_count": null,
      "outputs": [],
      "id": "c66b5d82-6abe-427c-bb40-74ad7dd2b984"
    },
    {
      "cell_type": "code",
      "source": [],
      "metadata": {
        "id": "deb09fd8-abfd-4bd9-ba32-2d0af270ad9f",
        "jupyter": {
          "source_hidden": true
        }
      },
      "execution_count": null,
      "outputs": [],
      "id": "deb09fd8-abfd-4bd9-ba32-2d0af270ad9f"
    },
    {
      "cell_type": "code",
      "source": [
        "# Initialize GPT-2 model and tokenizer\n",
        "import torch\n",
        "from transformers import GPT2LMHeadModel, GPT2Tokenizer, AdamW, get_linear_schedule_with_warmup\n",
        "\n",
        "model = GPT2LMHeadModel.from_pretrained('gpt2')  # Load pre-trained GPT-2 model\n",
        "tokenizer = GPT2Tokenizer.from_pretrained('gpt2')  # Load GPT-2 tokenizer\n",
        "\n",
        "# Prepare your dataset and create data loaders (assuming you have already done this)\n",
        "\n",
        "# Define optimizer and scheduler\n",
        "optimizer = AdamW(model.parameters(), lr=5e-5)\n",
        "scheduler = get_linear_schedule_with_warmup(optimizer, num_warmup_steps=0, num_training_steps=len(train_loader) * 10)\n",
        "\n",
        "device = torch.device(\"cuda\" if torch.cuda.is_available() else \"cpu\")\n",
        "model.to(device)\n",
        "\n",
        "for epoch in range(10):\n",
        "    model.train()\n",
        "    total_loss = 0\n",
        "\n",
        "    for batch in train_loader:\n",
        "        input_ids = batch['input_ids'].to(device)\n",
        "        attention_mask = batch['attention_mask'].to(device)\n",
        "        labels = input_ids.clone()  # Use input_ids as labels for auto-regressive training\n",
        "\n",
        "        # Forward pass\n",
        "        outputs = model(input_ids=input_ids, attention_mask=attention_mask, labels=labels)\n",
        "        loss = outputs.loss\n",
        "\n",
        "        # Backward pass\n",
        "        optimizer.zero_grad()\n",
        "        loss.backward()\n",
        "        optimizer.step()\n",
        "        scheduler.step()\n",
        "\n",
        "        total_loss += loss.item()\n",
        "\n",
        "    # Calculate average loss for the epoch\n",
        "    avg_loss = total_loss / len(train_loader)\n",
        "    print(f'Epoch {epoch+1}/{10}, Average Loss: {avg_loss:.4f}')"
      ],
      "metadata": {
        "id": "feecc4e0-ebb0-42db-8b01-a322c2ff08f1",
        "outputId": "78555ea9-04eb-4dd2-9a64-5ee76037fce5",
        "execution": {
          "iopub.status.busy": "2024-04-22T19:59:32.052113Z",
          "iopub.execute_input": "2024-04-22T19:59:32.052391Z",
          "iopub.status.idle": "2024-04-22T20:53:29.151617Z",
          "shell.execute_reply.started": "2024-04-22T19:59:32.052368Z",
          "shell.execute_reply": "2024-04-22T20:53:29.150655Z"
        },
        "trusted": true
      },
      "execution_count": null,
      "outputs": [
        {
          "name": "stdout",
          "text": "Epoch 1/10, Average Loss: 3.5189\nEpoch 2/10, Average Loss: 3.2645\nEpoch 3/10, Average Loss: 3.1629\nEpoch 4/10, Average Loss: 3.0902\nEpoch 5/10, Average Loss: 3.0347\nEpoch 6/10, Average Loss: 2.9903\nEpoch 7/10, Average Loss: 2.9566\nEpoch 8/10, Average Loss: 2.9284\nEpoch 9/10, Average Loss: 2.9077\nEpoch 10/10, Average Loss: 2.8942\n",
          "output_type": "stream"
        }
      ],
      "id": "feecc4e0-ebb0-42db-8b01-a322c2ff08f1"
    },
    {
      "cell_type": "code",
      "source": [
        "# Define the path where you want to save the model\n",
        "save_path = \"/kaggle/working/model.pt\"\n",
        "\n",
        "# Save the model's state dictionary\n",
        "torch.save(model.state_dict(), save_path)\n",
        "\n",
        "print(f\"Model saved to {save_path}\")"
      ],
      "metadata": {
        "id": "c41cf303-d9dc-4a87-80be-a8767b7c41f7",
        "outputId": "d6b68ccf-c0a5-417f-adaf-e688ae040f21",
        "execution": {
          "iopub.status.busy": "2024-04-22T20:55:07.363022Z",
          "iopub.execute_input": "2024-04-22T20:55:07.363361Z",
          "iopub.status.idle": "2024-04-22T20:55:08.462847Z",
          "shell.execute_reply.started": "2024-04-22T20:55:07.363335Z",
          "shell.execute_reply": "2024-04-22T20:55:08.461875Z"
        },
        "trusted": true
      },
      "execution_count": null,
      "outputs": [
        {
          "name": "stdout",
          "text": "Model saved to /kaggle/working/model.pt\n",
          "output_type": "stream"
        }
      ],
      "id": "c41cf303-d9dc-4a87-80be-a8767b7c41f7"
    },
    {
      "cell_type": "code",
      "source": [
        "!pip install rouge_score"
      ],
      "metadata": {
        "execution": {
          "iopub.status.busy": "2024-04-22T21:00:15.547365Z",
          "iopub.execute_input": "2024-04-22T21:00:15.548465Z",
          "iopub.status.idle": "2024-04-22T21:00:31.017549Z",
          "shell.execute_reply.started": "2024-04-22T21:00:15.548431Z",
          "shell.execute_reply": "2024-04-22T21:00:31.016319Z"
        },
        "trusted": true,
        "id": "hlI8htVB1W4N",
        "outputId": "d8c10eb8-604f-44e5-b9f0-c62e9e632039"
      },
      "execution_count": null,
      "outputs": [
        {
          "name": "stdout",
          "text": "Collecting rouge_score\n  Downloading rouge_score-0.1.2.tar.gz (17 kB)\n  Preparing metadata (setup.py) ... \u001b[?25ldone\n\u001b[?25hRequirement already satisfied: absl-py in /opt/conda/lib/python3.10/site-packages (from rouge_score) (1.4.0)\nRequirement already satisfied: nltk in /opt/conda/lib/python3.10/site-packages (from rouge_score) (3.2.4)\nRequirement already satisfied: numpy in /opt/conda/lib/python3.10/site-packages (from rouge_score) (1.26.4)\nRequirement already satisfied: six>=1.14.0 in /opt/conda/lib/python3.10/site-packages (from rouge_score) (1.16.0)\nBuilding wheels for collected packages: rouge_score\n  Building wheel for rouge_score (setup.py) ... \u001b[?25ldone\n\u001b[?25h  Created wheel for rouge_score: filename=rouge_score-0.1.2-py3-none-any.whl size=24934 sha256=6c00110503cfd17e67e5cf88292d171e90e3288d8ce31cf23fa84d5bf7efc51a\n  Stored in directory: /root/.cache/pip/wheels/5f/dd/89/461065a73be61a532ff8599a28e9beef17985c9e9c31e541b4\nSuccessfully built rouge_score\nInstalling collected packages: rouge_score\nSuccessfully installed rouge_score-0.1.2\n",
          "output_type": "stream"
        }
      ],
      "id": "hlI8htVB1W4N"
    },
    {
      "cell_type": "code",
      "source": [
        "import torch\n",
        "from transformers import GPT2LMHeadModel, GPT2Tokenizer\n",
        "from datasets import load_metric\n",
        "from tqdm import tqdm\n",
        "\n",
        "# Define the device (CPU or GPU)\n",
        "device = torch.device('cuda' if torch.cuda.is_available() else 'cpu')\n",
        "\n",
        "# Define the path where the model is saved\n",
        "load_path = \"/kaggle/working/model.pt\"\n",
        "\n",
        "# Initialize a new model instance and tokenizer\n",
        "model = GPT2LMHeadModel.from_pretrained('gpt2').to(device)  # Move model to GPU\n",
        "tokenizer = GPT2Tokenizer.from_pretrained('gpt2')\n",
        "\n",
        "# Load the state dictionary from the saved file\n",
        "model.load_state_dict(torch.load(load_path, map_location=device))\n",
        "\n",
        "# Load ROUGE metric from Hugging Face datasets library\n",
        "rouge_metric = load_metric('rouge')\n",
        "\n",
        "# Evaluate loop\n",
        "model.eval()\n",
        "generated_summaries = []\n",
        "original_summaries = []\n",
        "\n",
        "for batch in tqdm(test_loader, desc=\"Evaluating\"):\n",
        "    input_ids = batch['input_ids'].to(device)  # Move input tensors to GPU\n",
        "    attention_mask = batch['attention_mask'].to(device)\n",
        "    labels = batch['label']\n",
        "\n",
        "    # Generate summaries using the model\n",
        "    with torch.no_grad():\n",
        "        outputs = model.generate(input_ids, attention_mask=attention_mask, max_length=100, num_beams=1, early_stopping=True)\n",
        "\n",
        "    # Decode generated summaries and original summaries\n",
        "    generated_text = tokenizer.decode(outputs[0], skip_special_tokens=True)\n",
        "    original_text = labels[0]\n",
        "\n",
        "    # Extract the summary part after the TL;DR token\n",
        "    generated_summary = generated_text.split('TL;DR')[1].strip() if 'TL;DR' in generated_text else generated_text\n",
        "    original_summary = original_text.split('TL;DR')[1].strip() if 'TL;DR' in original_text else original_text\n",
        "\n",
        "    # Append to lists for ROUGE computation\n",
        "    generated_summaries.append(generated_summary)\n",
        "    original_summaries.append(original_summary)\n",
        "\n",
        "    # Print generated and original summaries\n",
        "    print(f\"Generated Summary: {generated_summary}\")\n",
        "    print(f\"Original Summary: {original_summary}\")\n",
        "    print(\"-\" * 50)\n",
        "\n",
        "# Compute ROUGE scores for evaluation\n",
        "rouge_scores = rouge_metric.compute(predictions=generated_summaries, references=original_summaries)\n",
        "print(\"ROUGE Scores:\")\n",
        "print(rouge_scores)"
      ],
      "metadata": {
        "id": "f47831fd-a967-4165-b6ad-b0d635401db7",
        "outputId": "50f0c180-b5d6-4da9-984f-d1a54c0c07f9",
        "execution": {
          "iopub.status.busy": "2024-04-22T21:00:54.734502Z",
          "iopub.execute_input": "2024-04-22T21:00:54.734936Z",
          "iopub.status.idle": "2024-04-22T21:02:56.020725Z",
          "shell.execute_reply.started": "2024-04-22T21:00:54.734888Z",
          "shell.execute_reply": "2024-04-22T21:02:56.019763Z"
        },
        "trusted": true
      },
      "execution_count": null,
      "outputs": [
        {
          "name": "stderr",
          "text": "Evaluating:   0%|          | 0/223 [00:00<?, ?it/s]Setting `pad_token_id` to `eos_token_id`:50256 for open-end generation.\nA decoder-only architecture is being used, but right-padding was detected! For correct generation results, please set `padding_side='left'` when initializing the tokenizer.\nEvaluating:   0%|          | 1/223 [00:01<06:36,  1.78s/it]Setting `pad_token_id` to `eos_token_id`:50256 for open-end generation.\nA decoder-only architecture is being used, but right-padding was detected! For correct generation results, please set `padding_side='left'` when initializing the tokenizer.\n",
          "output_type": "stream"
        },
        {
          "name": "stdout",
          "text": "Generated Summary: VERY HAPPY WITH THIS CAYENNE!!!\nOriginal Summary: VERY HAPPY WITH THIS CAYENNE!!!\n--------------------------------------------------\n",
          "output_type": "stream"
        },
        {
          "name": "stderr",
          "text": "Evaluating:   1%|          | 2/223 [00:02<03:51,  1.05s/it]Setting `pad_token_id` to `eos_token_id`:50256 for open-end generation.\nA decoder-only architecture is being used, but right-padding was detected! For correct generation results, please set `padding_side='left'` when initializing the tokenizer.\n",
          "output_type": "stream"
        },
        {
          "name": "stdout",
          "text": "Generated Summary: bought mother recommendation family physician. said mom iron deficiency anemia. name implies, iron deficiency anemia due insufficient iron. without enough iron, body can't produce enough hemoglobin, substance red blood cells enables carry oxygen. result, iron deficiency anemia leave tired short breath. solution : boost iron intake.one tablespoon tasty delight 70 % rda adult recommended dietary allowance ( rda ) recommended dietary allowance ( rda ) amounts selected nutrients considered adequate meet known nutrient needs healthy people. rda\nOriginal Summary: Very High in Iron\n--------------------------------------------------\n",
          "output_type": "stream"
        },
        {
          "name": "stderr",
          "text": "Evaluating:   1%|▏         | 3/223 [00:02<02:58,  1.23it/s]Setting `pad_token_id` to `eos_token_id`:50256 for open-end generation.\nA decoder-only architecture is being used, but right-padding was detected! For correct generation results, please set `padding_side='left'` when initializing the tokenizer.\n",
          "output_type": "stream"
        },
        {
          "name": "stdout",
          "text": "Generated Summary: they are unsalted\nOriginal Summary: they are unsalted\n--------------------------------------------------\n",
          "output_type": "stream"
        },
        {
          "name": "stderr",
          "text": "Evaluating:   2%|▏         | 4/223 [00:03<02:32,  1.43it/s]Setting `pad_token_id` to `eos_token_id`:50256 for open-end generation.\nA decoder-only architecture is being used, but right-padding was detected! For correct generation results, please set `padding_side='left'` when initializing the tokenizer.\n",
          "output_type": "stream"
        },
        {
          "name": "stdout",
          "text": "Generated Summary: Scrumptious!\nOriginal Summary: Scrumptious!\n--------------------------------------------------\n",
          "output_type": "stream"
        },
        {
          "name": "stderr",
          "text": "Evaluating:   2%|▏         | 5/223 [00:03<02:18,  1.57it/s]Setting `pad_token_id` to `eos_token_id`:50256 for open-end generation.\nA decoder-only architecture is being used, but right-padding was detected! For correct generation results, please set `padding_side='left'` when initializing the tokenizer.\n",
          "output_type": "stream"
        },
        {
          "name": "stdout",
          "text": "Generated Summary: Heavenly seasonings herb tea\nOriginal Summary: Im Tamed.\n--------------------------------------------------\n",
          "output_type": "stream"
        },
        {
          "name": "stderr",
          "text": "Evaluating:   3%|▎         | 6/223 [00:04<02:09,  1.68it/s]Setting `pad_token_id` to `eos_token_id`:50256 for open-end generation.\nA decoder-only architecture is being used, but right-padding was detected! For correct generation results, please set `padding_side='left'` when initializing the tokenizer.\n",
          "output_type": "stream"
        },
        {
          "name": "stdout",
          "text": "Generated Summary: Great Value\nOriginal Summary: Much better deal nowadays!\n--------------------------------------------------\n",
          "output_type": "stream"
        },
        {
          "name": "stderr",
          "text": "Evaluating:   3%|▎         | 7/223 [00:04<02:03,  1.75it/s]Setting `pad_token_id` to `eos_token_id`:50256 for open-end generation.\nA decoder-only architecture is being used, but right-padding was detected! For correct generation results, please set `padding_side='left'` when initializing the tokenizer.\n",
          "output_type": "stream"
        },
        {
          "name": "stdout",
          "text": "Generated Summary: let preface brief history tea addiction : approximately 40ish thought tea came ice enough sugar make infamous `` brown kool-aid ''. since drank tea restaurants mom's obligatory dinners, big deal. well slipped towards 50 began drink coffee ( liked ) eventually led parting ways due fact coffees liked, return favor feeling slightly nauseous desired effect looking achieve.'ve tried many different types coffees, one far best.'s smooth, bitter, bitter, bitter.'s also rich, full\nOriginal Summary: Actually the tea was two 5 Star, one 4 Star and one 1 Star\n--------------------------------------------------\n",
          "output_type": "stream"
        },
        {
          "name": "stderr",
          "text": "Evaluating:   4%|▎         | 8/223 [00:05<01:59,  1.80it/s]Setting `pad_token_id` to `eos_token_id`:50256 for open-end generation.\nA decoder-only architecture is being used, but right-padding was detected! For correct generation results, please set `padding_side='left'` when initializing the tokenizer.\n",
          "output_type": "stream"
        },
        {
          "name": "stdout",
          "text": "Generated Summary: Donut Shop Coffee is not for you\nOriginal Summary: Never again\n--------------------------------------------------\n",
          "output_type": "stream"
        },
        {
          "name": "stderr",
          "text": "Evaluating:   4%|▍         | 9/223 [00:05<01:57,  1.83it/s]Setting `pad_token_id` to `eos_token_id`:50256 for open-end generation.\nA decoder-only architecture is being used, but right-padding was detected! For correct generation results, please set `padding_side='left'` when initializing the tokenizer.\n",
          "output_type": "stream"
        },
        {
          "name": "stdout",
          "text": "Generated Summary: excellent vegetarian chili\nOriginal Summary: excellent vegetarian chili\n--------------------------------------------------\n",
          "output_type": "stream"
        },
        {
          "name": "stderr",
          "text": "Evaluating:   4%|▍         | 10/223 [00:06<01:55,  1.84it/s]Setting `pad_token_id` to `eos_token_id`:50256 for open-end generation.\nA decoder-only architecture is being used, but right-padding was detected! For correct generation results, please set `padding_side='left'` when initializing the tokenizer.\n",
          "output_type": "stream"
        },
        {
          "name": "stdout",
          "text": "Generated Summary: Not runny, but not bad\nOriginal Summary: I'm sorry to say that things did not go well with this food\n--------------------------------------------------\n",
          "output_type": "stream"
        },
        {
          "name": "stderr",
          "text": "Evaluating:   5%|▍         | 11/223 [00:07<01:54,  1.85it/s]Setting `pad_token_id` to `eos_token_id`:50256 for open-end generation.\nA decoder-only architecture is being used, but right-padding was detected! For correct generation results, please set `padding_side='left'` when initializing the tokenizer.\n",
          "output_type": "stream"
        },
        {
          "name": "stdout",
          "text": "Generated Summary: Best flavored coffee I've ever had\nOriginal Summary: YUM!\n--------------------------------------------------\n",
          "output_type": "stream"
        },
        {
          "name": "stderr",
          "text": "Evaluating:   5%|▌         | 12/223 [00:07<01:53,  1.87it/s]Setting `pad_token_id` to `eos_token_id`:50256 for open-end generation.\nA decoder-only architecture is being used, but right-padding was detected! For correct generation results, please set `padding_side='left'` when initializing the tokenizer.\n",
          "output_type": "stream"
        },
        {
          "name": "stdout",
          "text": "Generated Summary: Not what I expected\nOriginal Summary: Bad Taste! &lt;-- I was confused!\n--------------------------------------------------\n",
          "output_type": "stream"
        },
        {
          "name": "stderr",
          "text": "Evaluating:   6%|▌         | 13/223 [00:08<01:46,  1.96it/s]Setting `pad_token_id` to `eos_token_id`:50256 for open-end generation.\nA decoder-only architecture is being used, but right-padding was detected! For correct generation results, please set `padding_side='left'` when initializing the tokenizer.\n",
          "output_type": "stream"
        },
        {
          "name": "stdout",
          "text": "Generated Summary: NASTY\nOriginal Summary: NASTY\n--------------------------------------------------\n",
          "output_type": "stream"
        },
        {
          "name": "stderr",
          "text": "Evaluating:   6%|▋         | 14/223 [00:08<01:47,  1.95it/s]Setting `pad_token_id` to `eos_token_id`:50256 for open-end generation.\nA decoder-only architecture is being used, but right-padding was detected! For correct generation results, please set `padding_side='left'` when initializing the tokenizer.\n",
          "output_type": "stream"
        },
        {
          "name": "stdout",
          "text": "Generated Summary: Unique & Delicious\nOriginal Summary: Unique & Addictive\n--------------------------------------------------\n",
          "output_type": "stream"
        },
        {
          "name": "stderr",
          "text": "Evaluating:   7%|▋         | 15/223 [00:09<01:47,  1.93it/s]Setting `pad_token_id` to `eos_token_id`:50256 for open-end generation.\nA decoder-only architecture is being used, but right-padding was detected! For correct generation results, please set `padding_side='left'` when initializing the tokenizer.\n",
          "output_type": "stream"
        },
        {
          "name": "stdout",
          "text": "Generated Summary: PEGGY\nOriginal Summary: PEGGY\n--------------------------------------------------\n",
          "output_type": "stream"
        },
        {
          "name": "stderr",
          "text": "Evaluating:   7%|▋         | 16/223 [00:09<01:47,  1.93it/s]Setting `pad_token_id` to `eos_token_id`:50256 for open-end generation.\nA decoder-only architecture is being used, but right-padding was detected! For correct generation results, please set `padding_side='left'` when initializing the tokenizer.\n",
          "output_type": "stream"
        },
        {
          "name": "stdout",
          "text": "Generated Summary: HORRID!\nOriginal Summary: HORRID!\n--------------------------------------------------\n",
          "output_type": "stream"
        },
        {
          "name": "stderr",
          "text": "Evaluating:   8%|▊         | 17/223 [00:10<01:46,  1.93it/s]Setting `pad_token_id` to `eos_token_id`:50256 for open-end generation.\nA decoder-only architecture is being used, but right-padding was detected! For correct generation results, please set `padding_side='left'` when initializing the tokenizer.\n",
          "output_type": "stream"
        },
        {
          "name": "stdout",
          "text": "Generated Summary: Wonderful anise flavor...\nOriginal Summary: Wonderful anise flavor...\n--------------------------------------------------\n",
          "output_type": "stream"
        },
        {
          "name": "stderr",
          "text": "Evaluating:   8%|▊         | 18/223 [00:10<01:46,  1.93it/s]Setting `pad_token_id` to `eos_token_id`:50256 for open-end generation.\nA decoder-only architecture is being used, but right-padding was detected! For correct generation results, please set `padding_side='left'` when initializing the tokenizer.\n",
          "output_type": "stream"
        },
        {
          "name": "stdout",
          "text": "Generated Summary: Restaurant taste at home\nOriginal Summary: Restaurant taste at home\n--------------------------------------------------\n",
          "output_type": "stream"
        },
        {
          "name": "stderr",
          "text": "Evaluating:   9%|▊         | 19/223 [00:11<01:47,  1.90it/s]Setting `pad_token_id` to `eos_token_id`:50256 for open-end generation.\nA decoder-only architecture is being used, but right-padding was detected! For correct generation results, please set `padding_side='left'` when initializing the tokenizer.\n",
          "output_type": "stream"
        },
        {
          "name": "stdout",
          "text": "Generated Summary: variety packs taste great! every morning. $ 0.30 cents per meal,n't understand everyone earthn't buying stuff up.maple brown sugar terrific, followed apples cinnamon, followed regular.n't get tired ole thing, taste great.i boil water small pot, empty packet 2 bowl, pour boiling water, watch expand 2-3 minutes. add 1/2 cup maple syrup, 1/2 cup vanilla extract, 1/2 cup water, 1/2 cup maple\nOriginal Summary: Why wouldn't you buy oatmeal from Mcanns? Tastes great!\n--------------------------------------------------\n",
          "output_type": "stream"
        },
        {
          "name": "stderr",
          "text": "Evaluating:   9%|▉         | 20/223 [00:11<01:48,  1.88it/s]Setting `pad_token_id` to `eos_token_id`:50256 for open-end generation.\nA decoder-only architecture is being used, but right-padding was detected! For correct generation results, please set `padding_side='left'` when initializing the tokenizer.\n",
          "output_type": "stream"
        },
        {
          "name": "stdout",
          "text": "Generated Summary: Not bad, not bad either\nOriginal Summary: An acquired taste perhaps?\n--------------------------------------------------\n",
          "output_type": "stream"
        },
        {
          "name": "stderr",
          "text": "Evaluating:   9%|▉         | 21/223 [00:12<01:47,  1.88it/s]Setting `pad_token_id` to `eos_token_id`:50256 for open-end generation.\nA decoder-only architecture is being used, but right-padding was detected! For correct generation results, please set `padding_side='left'` when initializing the tokenizer.\n",
          "output_type": "stream"
        },
        {
          "name": "stdout",
          "text": "Generated Summary: way better than i thought\nOriginal Summary: way better than i thought\n--------------------------------------------------\n",
          "output_type": "stream"
        },
        {
          "name": "stderr",
          "text": "Evaluating:  10%|▉         | 22/223 [00:12<01:47,  1.88it/s]Setting `pad_token_id` to `eos_token_id`:50256 for open-end generation.\nA decoder-only architecture is being used, but right-padding was detected! For correct generation results, please set `padding_side='left'` when initializing the tokenizer.\n",
          "output_type": "stream"
        },
        {
          "name": "stdout",
          "text": "Generated Summary: Great Flavor...\nOriginal Summary: Great Flavor...\n--------------------------------------------------\n",
          "output_type": "stream"
        },
        {
          "name": "stderr",
          "text": "Evaluating:  10%|█         | 23/223 [00:13<01:45,  1.89it/s]Setting `pad_token_id` to `eos_token_id`:50256 for open-end generation.\nA decoder-only architecture is being used, but right-padding was detected! For correct generation results, please set `padding_side='left'` when initializing the tokenizer.\n",
          "output_type": "stream"
        },
        {
          "name": "stdout",
          "text": "Generated Summary: DisposaKups\nOriginal Summary: Good Product - Sticky Mess!\n--------------------------------------------------\n",
          "output_type": "stream"
        },
        {
          "name": "stderr",
          "text": "Evaluating:  11%|█         | 24/223 [00:13<01:45,  1.89it/s]Setting `pad_token_id` to `eos_token_id`:50256 for open-end generation.\nA decoder-only architecture is being used, but right-padding was detected! For correct generation results, please set `padding_side='left'` when initializing the tokenizer.\n",
          "output_type": "stream"
        },
        {
          "name": "stdout",
          "text": "Generated Summary: Great meal-on-the-go!\nOriginal Summary: Great meal-on-the-go!\n--------------------------------------------------\n",
          "output_type": "stream"
        },
        {
          "name": "stderr",
          "text": "Evaluating:  11%|█         | 25/223 [00:14<01:44,  1.90it/s]Setting `pad_token_id` to `eos_token_id`:50256 for open-end generation.\nA decoder-only architecture is being used, but right-padding was detected! For correct generation results, please set `padding_side='left'` when initializing the tokenizer.\n",
          "output_type": "stream"
        },
        {
          "name": "stdout",
          "text": "Generated Summary: Great and good price!\nOriginal Summary: Great and good price!\n--------------------------------------------------\n",
          "output_type": "stream"
        },
        {
          "name": "stderr",
          "text": "Evaluating:  12%|█▏        | 26/223 [00:14<01:43,  1.90it/s]Setting `pad_token_id` to `eos_token_id`:50256 for open-end generation.\nA decoder-only architecture is being used, but right-padding was detected! For correct generation results, please set `padding_side='left'` when initializing the tokenizer.\n",
          "output_type": "stream"
        },
        {
          "name": "stdout",
          "text": "Generated Summary: The Best no doubt about it!\nOriginal Summary: The Best no doubt about it!\n--------------------------------------------------\n",
          "output_type": "stream"
        },
        {
          "name": "stderr",
          "text": "Evaluating:  12%|█▏        | 27/223 [00:15<01:44,  1.87it/s]Setting `pad_token_id` to `eos_token_id`:50256 for open-end generation.\nA decoder-only architecture is being used, but right-padding was detected! For correct generation results, please set `padding_side='left'` when initializing the tokenizer.\n",
          "output_type": "stream"
        },
        {
          "name": "stdout",
          "text": "Generated Summary: Great Jerky\nOriginal Summary: finally!\n--------------------------------------------------\n",
          "output_type": "stream"
        },
        {
          "name": "stderr",
          "text": "Evaluating:  13%|█▎        | 28/223 [00:15<01:45,  1.85it/s]Setting `pad_token_id` to `eos_token_id`:50256 for open-end generation.\nA decoder-only architecture is being used, but right-padding was detected! For correct generation results, please set `padding_side='left'` when initializing the tokenizer.\n",
          "output_type": "stream"
        },
        {
          "name": "stdout",
          "text": "Generated Summary: Delicious\nOriginal Summary: Delicious\n--------------------------------------------------\n",
          "output_type": "stream"
        },
        {
          "name": "stderr",
          "text": "Evaluating:  13%|█▎        | 29/223 [00:16<01:43,  1.87it/s]Setting `pad_token_id` to `eos_token_id`:50256 for open-end generation.\nA decoder-only architecture is being used, but right-padding was detected! For correct generation results, please set `padding_side='left'` when initializing the tokenizer.\n",
          "output_type": "stream"
        },
        {
          "name": "stdout",
          "text": "Generated Summary: More butter please!\nOriginal Summary: More butter please!\n--------------------------------------------------\n",
          "output_type": "stream"
        },
        {
          "name": "stderr",
          "text": "Evaluating:  13%|█▎        | 30/223 [00:17<01:42,  1.88it/s]Setting `pad_token_id` to `eos_token_id`:50256 for open-end generation.\nA decoder-only architecture is being used, but right-padding was detected! For correct generation results, please set `padding_side='left'` when initializing the tokenizer.\n",
          "output_type": "stream"
        },
        {
          "name": "stdout",
          "text": "Generated Summary: Not as described\nOriginal Summary: Rancid Smell\n--------------------------------------------------\n",
          "output_type": "stream"
        },
        {
          "name": "stderr",
          "text": "Evaluating:  14%|█▍        | 31/223 [00:17<01:41,  1.89it/s]Setting `pad_token_id` to `eos_token_id`:50256 for open-end generation.\nA decoder-only architecture is being used, but right-padding was detected! For correct generation results, please set `padding_side='left'` when initializing the tokenizer.\n",
          "output_type": "stream"
        },
        {
          "name": "stdout",
          "text": "Generated Summary: Great product\nOriginal Summary: Add some Rice on the Side\n--------------------------------------------------\n",
          "output_type": "stream"
        },
        {
          "name": "stderr",
          "text": "Evaluating:  14%|█▍        | 32/223 [00:18<01:41,  1.88it/s]Setting `pad_token_id` to `eos_token_id`:50256 for open-end generation.\nA decoder-only architecture is being used, but right-padding was detected! For correct generation results, please set `padding_side='left'` when initializing the tokenizer.\n",
          "output_type": "stream"
        },
        {
          "name": "stdout",
          "text": "Generated Summary: Nothing like the real cup of coffee at Starbucks\nOriginal Summary: Nothing like the real cup of coffee at Starbucks\n--------------------------------------------------\n",
          "output_type": "stream"
        },
        {
          "name": "stderr",
          "text": "Evaluating:  15%|█▍        | 33/223 [00:18<01:40,  1.89it/s]Setting `pad_token_id` to `eos_token_id`:50256 for open-end generation.\nA decoder-only architecture is being used, but right-padding was detected! For correct generation results, please set `padding_side='left'` when initializing the tokenizer.\n",
          "output_type": "stream"
        },
        {
          "name": "stdout",
          "text": "Generated Summary: Great taste but expensive\nOriginal Summary: Great taste but expensive\n--------------------------------------------------\n",
          "output_type": "stream"
        },
        {
          "name": "stderr",
          "text": "Evaluating:  15%|█▌        | 34/223 [00:19<01:39,  1.90it/s]Setting `pad_token_id` to `eos_token_id`:50256 for open-end generation.\nA decoder-only architecture is being used, but right-padding was detected! For correct generation results, please set `padding_side='left'` when initializing the tokenizer.\n",
          "output_type": "stream"
        },
        {
          "name": "stdout",
          "text": "Generated Summary: just delicious\nOriginal Summary: just delicious\n--------------------------------------------------\n",
          "output_type": "stream"
        },
        {
          "name": "stderr",
          "text": "Evaluating:  16%|█▌        | 35/223 [00:19<01:38,  1.90it/s]Setting `pad_token_id` to `eos_token_id`:50256 for open-end generation.\nA decoder-only architecture is being used, but right-padding was detected! For correct generation results, please set `padding_side='left'` when initializing the tokenizer.\n",
          "output_type": "stream"
        },
        {
          "name": "stdout",
          "text": "Generated Summary: happy pair\nOriginal Summary: happy pair\n--------------------------------------------------\n",
          "output_type": "stream"
        },
        {
          "name": "stderr",
          "text": "Evaluating:  16%|█▌        | 36/223 [00:20<01:38,  1.91it/s]Setting `pad_token_id` to `eos_token_id`:50256 for open-end generation.\nA decoder-only architecture is being used, but right-padding was detected! For correct generation results, please set `padding_side='left'` when initializing the tokenizer.\n",
          "output_type": "stream"
        },
        {
          "name": "stdout",
          "text": "Generated Summary: soft drink seem like trivial item review especially since general category food beverages depends one's palate. friend mine introduced drink based childhood remembrance midwest.n't recall mine, tasted, take back days miniature plastic bottles hawaiian fruit punch stood next mother's jell-o mold refrigerator.with appropriate color-clashing, tropical décor, drink would seem perfect.'s refreshing, refreshing, refreshing, refreshing.'s also refreshing, refreshing, refreshing, refreshing.'s also refreshing\nOriginal Summary: Retro Soft Drink Is Worth a Few Measured Sips But Oh That Calorie Count!\n--------------------------------------------------\n",
          "output_type": "stream"
        },
        {
          "name": "stderr",
          "text": "Evaluating:  17%|█▋        | 37/223 [00:20<01:37,  1.92it/s]Setting `pad_token_id` to `eos_token_id`:50256 for open-end generation.\nA decoder-only architecture is being used, but right-padding was detected! For correct generation results, please set `padding_side='left'` when initializing the tokenizer.\n",
          "output_type": "stream"
        },
        {
          "name": "stdout",
          "text": "Generated Summary: delicious!!!\nOriginal Summary: delicious!!!\n--------------------------------------------------\n",
          "output_type": "stream"
        },
        {
          "name": "stderr",
          "text": "Evaluating:  17%|█▋        | 38/223 [00:21<01:36,  1.92it/s]Setting `pad_token_id` to `eos_token_id`:50256 for open-end generation.\nA decoder-only architecture is being used, but right-padding was detected! For correct generation results, please set `padding_side='left'` when initializing the tokenizer.\n",
          "output_type": "stream"
        },
        {
          "name": "stdout",
          "text": "Generated Summary: Great snack\nOriginal Summary: Delicious chips\n--------------------------------------------------\n",
          "output_type": "stream"
        },
        {
          "name": "stderr",
          "text": "Evaluating:  17%|█▋        | 39/223 [00:21<01:35,  1.92it/s]Setting `pad_token_id` to `eos_token_id`:50256 for open-end generation.\nA decoder-only architecture is being used, but right-padding was detected! For correct generation results, please set `padding_side='left'` when initializing the tokenizer.\n",
          "output_type": "stream"
        },
        {
          "name": "stdout",
          "text": "Generated Summary: Tasty, but not as good as the chili chips I had\nOriginal Summary: Tastes Like Celery\n--------------------------------------------------\n",
          "output_type": "stream"
        },
        {
          "name": "stderr",
          "text": "Evaluating:  18%|█▊        | 40/223 [00:22<01:35,  1.92it/s]Setting `pad_token_id` to `eos_token_id`:50256 for open-end generation.\nA decoder-only architecture is being used, but right-padding was detected! For correct generation results, please set `padding_side='left'` when initializing the tokenizer.\n",
          "output_type": "stream"
        },
        {
          "name": "stdout",
          "text": "Generated Summary: Benson's saltfree/potassium free seasoning\nOriginal Summary: Benson's saltfree/potassium free seasoning\n--------------------------------------------------\n",
          "output_type": "stream"
        },
        {
          "name": "stderr",
          "text": "Evaluating:  18%|█▊        | 41/223 [00:22<01:34,  1.93it/s]Setting `pad_token_id` to `eos_token_id`:50256 for open-end generation.\nA decoder-only architecture is being used, but right-padding was detected! For correct generation results, please set `padding_side='left'` when initializing the tokenizer.\n",
          "output_type": "stream"
        },
        {
          "name": "stdout",
          "text": "Generated Summary: Love these chips\nOriginal Summary: Love these chips\n--------------------------------------------------\n",
          "output_type": "stream"
        },
        {
          "name": "stderr",
          "text": "Evaluating:  19%|█▉        | 42/223 [00:23<01:34,  1.92it/s]Setting `pad_token_id` to `eos_token_id`:50256 for open-end generation.\nA decoder-only architecture is being used, but right-padding was detected! For correct generation results, please set `padding_side='left'` when initializing the tokenizer.\n",
          "output_type": "stream"
        },
        {
          "name": "stdout",
          "text": "Generated Summary: Wow, what are these people talking about!!??\nOriginal Summary: Wow, what are these people talking about!!??\n--------------------------------------------------\n",
          "output_type": "stream"
        },
        {
          "name": "stderr",
          "text": "Evaluating:  19%|█▉        | 43/223 [00:23<01:34,  1.91it/s]Setting `pad_token_id` to `eos_token_id`:50256 for open-end generation.\nA decoder-only architecture is being used, but right-padding was detected! For correct generation results, please set `padding_side='left'` when initializing the tokenizer.\n",
          "output_type": "stream"
        },
        {
          "name": "stdout",
          "text": "Generated Summary: Not as good as sugar\nOriginal Summary: Manufacturing Problems Diminish Product\n--------------------------------------------------\n",
          "output_type": "stream"
        },
        {
          "name": "stderr",
          "text": "Evaluating:  20%|█▉        | 44/223 [00:24<01:33,  1.91it/s]Setting `pad_token_id` to `eos_token_id`:50256 for open-end generation.\nA decoder-only architecture is being used, but right-padding was detected! For correct generation results, please set `padding_side='left'` when initializing the tokenizer.\n",
          "output_type": "stream"
        },
        {
          "name": "stdout",
          "text": "Generated Summary: Yummy protein\nOriginal Summary: Yummy protein\n--------------------------------------------------\n",
          "output_type": "stream"
        },
        {
          "name": "stderr",
          "text": "Evaluating:  20%|██        | 45/223 [00:24<01:33,  1.91it/s]Setting `pad_token_id` to `eos_token_id`:50256 for open-end generation.\nA decoder-only architecture is being used, but right-padding was detected! For correct generation results, please set `padding_side='left'` when initializing the tokenizer.\n",
          "output_type": "stream"
        },
        {
          "name": "stdout",
          "text": "Generated Summary: Delicious Instant Oatmeal!\nOriginal Summary: Delicious Instant Oatmeal!\n--------------------------------------------------\n",
          "output_type": "stream"
        },
        {
          "name": "stderr",
          "text": "Evaluating:  21%|██        | 46/223 [00:25<01:32,  1.92it/s]Setting `pad_token_id` to `eos_token_id`:50256 for open-end generation.\nA decoder-only architecture is being used, but right-padding was detected! For correct generation results, please set `padding_side='left'` when initializing the tokenizer.\n",
          "output_type": "stream"
        },
        {
          "name": "stdout",
          "text": "Generated Summary: Delicious\nOriginal Summary: Delicious\n--------------------------------------------------\n",
          "output_type": "stream"
        },
        {
          "name": "stderr",
          "text": "Evaluating:  21%|██        | 47/223 [00:25<01:32,  1.91it/s]Setting `pad_token_id` to `eos_token_id`:50256 for open-end generation.\nA decoder-only architecture is being used, but right-padding was detected! For correct generation results, please set `padding_side='left'` when initializing the tokenizer.\n",
          "output_type": "stream"
        },
        {
          "name": "stdout",
          "text": "Generated Summary: A little too WEAK!\nOriginal Summary: A little too WEAK!\n--------------------------------------------------\n",
          "output_type": "stream"
        },
        {
          "name": "stderr",
          "text": "Evaluating:  22%|██▏       | 48/223 [00:26<01:29,  1.95it/s]Setting `pad_token_id` to `eos_token_id`:50256 for open-end generation.\nA decoder-only architecture is being used, but right-padding was detected! For correct generation results, please set `padding_side='left'` when initializing the tokenizer.\n",
          "output_type": "stream"
        },
        {
          "name": "stdout",
          "text": "Generated Summary: Good food, but not the best\nOriginal Summary: Good food for our dogs\n--------------------------------------------------\n",
          "output_type": "stream"
        },
        {
          "name": "stderr",
          "text": "Evaluating:  22%|██▏       | 49/223 [00:26<01:30,  1.93it/s]Setting `pad_token_id` to `eos_token_id`:50256 for open-end generation.\nA decoder-only architecture is being used, but right-padding was detected! For correct generation results, please set `padding_side='left'` when initializing the tokenizer.\n",
          "output_type": "stream"
        },
        {
          "name": "stdout",
          "text": "Generated Summary: Nothing special\nOriginal Summary: Nothing special\n--------------------------------------------------\n",
          "output_type": "stream"
        },
        {
          "name": "stderr",
          "text": "Evaluating:  22%|██▏       | 50/223 [00:27<01:29,  1.93it/s]Setting `pad_token_id` to `eos_token_id`:50256 for open-end generation.\nA decoder-only architecture is being used, but right-padding was detected! For correct generation results, please set `padding_side='left'` when initializing the tokenizer.\n",
          "output_type": "stream"
        },
        {
          "name": "stdout",
          "text": "Generated Summary: It is very easy to set up.\nOriginal Summary: It is very easy to set up.\n--------------------------------------------------\n",
          "output_type": "stream"
        },
        {
          "name": "stderr",
          "text": "Evaluating:  23%|██▎       | 51/223 [00:27<01:29,  1.93it/s]Setting `pad_token_id` to `eos_token_id`:50256 for open-end generation.\nA decoder-only architecture is being used, but right-padding was detected! For correct generation results, please set `padding_side='left'` when initializing the tokenizer.\n",
          "output_type": "stream"
        },
        {
          "name": "stdout",
          "text": "Generated Summary: Is this food?\nOriginal Summary: Is this food?\n--------------------------------------------------\n",
          "output_type": "stream"
        },
        {
          "name": "stderr",
          "text": "Evaluating:  23%|██▎       | 52/223 [00:28<01:28,  1.93it/s]Setting `pad_token_id` to `eos_token_id`:50256 for open-end generation.\nA decoder-only architecture is being used, but right-padding was detected! For correct generation results, please set `padding_side='left'` when initializing the tokenizer.\n",
          "output_type": "stream"
        },
        {
          "name": "stdout",
          "text": "Generated Summary: Very Good!!!\nOriginal Summary: Very Good !!!\n--------------------------------------------------\n",
          "output_type": "stream"
        },
        {
          "name": "stderr",
          "text": "Evaluating:  24%|██▍       | 53/223 [00:29<01:28,  1.92it/s]Setting `pad_token_id` to `eos_token_id`:50256 for open-end generation.\nA decoder-only architecture is being used, but right-padding was detected! For correct generation results, please set `padding_side='left'` when initializing the tokenizer.\n",
          "output_type": "stream"
        },
        {
          "name": "stdout",
          "text": "Generated Summary: Not too bad, but not too good\nOriginal Summary: nice soda alternative, but lacks a little something\n--------------------------------------------------\n",
          "output_type": "stream"
        },
        {
          "name": "stderr",
          "text": "Evaluating:  24%|██▍       | 54/223 [00:29<01:27,  1.92it/s]Setting `pad_token_id` to `eos_token_id`:50256 for open-end generation.\nA decoder-only architecture is being used, but right-padding was detected! For correct generation results, please set `padding_side='left'` when initializing the tokenizer.\n",
          "output_type": "stream"
        },
        {
          "name": "stdout",
          "text": "Generated Summary: Great for the\nOriginal Summary: Works, even for the worst nausea (including morning sickness)!\n--------------------------------------------------\n",
          "output_type": "stream"
        },
        {
          "name": "stderr",
          "text": "Evaluating:  25%|██▍       | 55/223 [00:30<01:27,  1.92it/s]Setting `pad_token_id` to `eos_token_id`:50256 for open-end generation.\nA decoder-only architecture is being used, but right-padding was detected! For correct generation results, please set `padding_side='left'` when initializing the tokenizer.\n",
          "output_type": "stream"
        },
        {
          "name": "stdout",
          "text": "Generated Summary: Best K-Cup\nOriginal Summary: My mom said this was not as flavorful as other \"Extra Bolds\"\n--------------------------------------------------\n",
          "output_type": "stream"
        },
        {
          "name": "stderr",
          "text": "Evaluating:  25%|██▌       | 56/223 [00:30<01:27,  1.91it/s]Setting `pad_token_id` to `eos_token_id`:50256 for open-end generation.\nA decoder-only architecture is being used, but right-padding was detected! For correct generation results, please set `padding_side='left'` when initializing the tokenizer.\n",
          "output_type": "stream"
        },
        {
          "name": "stdout",
          "text": "Generated Summary: Great Treats\nOriginal Summary: Great Treats\n--------------------------------------------------\n",
          "output_type": "stream"
        },
        {
          "name": "stderr",
          "text": "Evaluating:  26%|██▌       | 57/223 [00:31<01:26,  1.92it/s]Setting `pad_token_id` to `eos_token_id`:50256 for open-end generation.\nA decoder-only architecture is being used, but right-padding was detected! For correct generation results, please set `padding_side='left'` when initializing the tokenizer.\n",
          "output_type": "stream"
        },
        {
          "name": "stdout",
          "text": "Generated Summary: Best Price\nOriginal Summary: Best Price\n--------------------------------------------------\n",
          "output_type": "stream"
        },
        {
          "name": "stderr",
          "text": "Evaluating:  26%|██▌       | 58/223 [00:31<01:26,  1.92it/s]Setting `pad_token_id` to `eos_token_id`:50256 for open-end generation.\nA decoder-only architecture is being used, but right-padding was detected! For correct generation results, please set `padding_side='left'` when initializing the tokenizer.\n",
          "output_type": "stream"
        },
        {
          "name": "stdout",
          "text": "Generated Summary: Kick up Your Morning!\nOriginal Summary: Kick up Your Morning!\n--------------------------------------------------\n",
          "output_type": "stream"
        },
        {
          "name": "stderr",
          "text": "Evaluating:  26%|██▋       | 59/223 [00:32<01:25,  1.91it/s]Setting `pad_token_id` to `eos_token_id`:50256 for open-end generation.\nA decoder-only architecture is being used, but right-padding was detected! For correct generation results, please set `padding_side='left'` when initializing the tokenizer.\n",
          "output_type": "stream"
        },
        {
          "name": "stdout",
          "text": "Generated Summary: Great Hot Chocolate!\nOriginal Summary: world's best hot chocolate  !\n--------------------------------------------------\n",
          "output_type": "stream"
        },
        {
          "name": "stderr",
          "text": "Evaluating:  27%|██▋       | 60/223 [00:32<01:25,  1.92it/s]Setting `pad_token_id` to `eos_token_id`:50256 for open-end generation.\nA decoder-only architecture is being used, but right-padding was detected! For correct generation results, please set `padding_side='left'` when initializing the tokenizer.\n",
          "output_type": "stream"
        },
        {
          "name": "stdout",
          "text": "Generated Summary: Pretty good\nOriginal Summary: Pretty good\n--------------------------------------------------\n",
          "output_type": "stream"
        },
        {
          "name": "stderr",
          "text": "Evaluating:  27%|██▋       | 61/223 [00:33<01:24,  1.91it/s]Setting `pad_token_id` to `eos_token_id`:50256 for open-end generation.\nA decoder-only architecture is being used, but right-padding was detected! For correct generation results, please set `padding_side='left'` when initializing the tokenizer.\n",
          "output_type": "stream"
        },
        {
          "name": "stdout",
          "text": "Generated Summary: Love em'!\nOriginal Summary: Love em'!\n--------------------------------------------------\n",
          "output_type": "stream"
        },
        {
          "name": "stderr",
          "text": "Evaluating:  28%|██▊       | 62/223 [00:33<01:24,  1.92it/s]Setting `pad_token_id` to `eos_token_id`:50256 for open-end generation.\nA decoder-only architecture is being used, but right-padding was detected! For correct generation results, please set `padding_side='left'` when initializing the tokenizer.\n",
          "output_type": "stream"
        },
        {
          "name": "stdout",
          "text": "Generated Summary: Searched many stores for this, happy to find on Amazon!\nOriginal Summary: Searched many stores for this, happy to find on Amazon!\n--------------------------------------------------\n",
          "output_type": "stream"
        },
        {
          "name": "stderr",
          "text": "Evaluating:  28%|██▊       | 63/223 [00:34<01:23,  1.92it/s]Setting `pad_token_id` to `eos_token_id`:50256 for open-end generation.\nA decoder-only architecture is being used, but right-padding was detected! For correct generation results, please set `padding_side='left'` when initializing the tokenizer.\n",
          "output_type": "stream"
        },
        {
          "name": "stdout",
          "text": "Generated Summary: This coffee is very good.\nOriginal Summary: This coffee is very good.\n--------------------------------------------------\n",
          "output_type": "stream"
        },
        {
          "name": "stderr",
          "text": "Evaluating:  29%|██▊       | 64/223 [00:34<01:22,  1.92it/s]Setting `pad_token_id` to `eos_token_id`:50256 for open-end generation.\nA decoder-only architecture is being used, but right-padding was detected! For correct generation results, please set `padding_side='left'` when initializing the tokenizer.\n",
          "output_type": "stream"
        },
        {
          "name": "stdout",
          "text": "Generated Summary: Best Darn Chili\nOriginal Summary: Best Darn Chili\n--------------------------------------------------\n",
          "output_type": "stream"
        },
        {
          "name": "stderr",
          "text": "Evaluating:  29%|██▉       | 65/223 [00:35<01:22,  1.92it/s]Setting `pad_token_id` to `eos_token_id`:50256 for open-end generation.\nA decoder-only architecture is being used, but right-padding was detected! For correct generation results, please set `padding_side='left'` when initializing the tokenizer.\n",
          "output_type": "stream"
        },
        {
          "name": "stdout",
          "text": "Generated Summary: Great alternative to soda and aspartame/spenda sweetened drinks\nOriginal Summary: Great alternative to soda and aspartame/spenda sweetened drinks\n--------------------------------------------------\n",
          "output_type": "stream"
        },
        {
          "name": "stderr",
          "text": "Evaluating:  30%|██▉       | 66/223 [00:35<01:22,  1.91it/s]Setting `pad_token_id` to `eos_token_id`:50256 for open-end generation.\nA decoder-only architecture is being used, but right-padding was detected! For correct generation results, please set `padding_side='left'` when initializing the tokenizer.\n",
          "output_type": "stream"
        },
        {
          "name": "stdout",
          "text": "Generated Summary: Love Bob's Red Mill Products\nOriginal Summary: Love Bob's Red Mill Products\n--------------------------------------------------\n",
          "output_type": "stream"
        },
        {
          "name": "stderr",
          "text": "Evaluating:  30%|███       | 67/223 [00:36<01:22,  1.88it/s]Setting `pad_token_id` to `eos_token_id`:50256 for open-end generation.\nA decoder-only architecture is being used, but right-padding was detected! For correct generation results, please set `padding_side='left'` when initializing the tokenizer.\n",
          "output_type": "stream"
        },
        {
          "name": "stdout",
          "text": "Generated Summary: These little guys are so tasty!  I'll definitely be buying more!\nOriginal Summary: These little guys are so tasty!  I'll definitely be buying more!\n--------------------------------------------------\n",
          "output_type": "stream"
        },
        {
          "name": "stderr",
          "text": "Evaluating:  30%|███       | 68/223 [00:36<01:21,  1.90it/s]Setting `pad_token_id` to `eos_token_id`:50256 for open-end generation.\nA decoder-only architecture is being used, but right-padding was detected! For correct generation results, please set `padding_side='left'` when initializing the tokenizer.\n",
          "output_type": "stream"
        },
        {
          "name": "stdout",
          "text": "Generated Summary: Great Toy\nOriginal Summary: Great Toy\n--------------------------------------------------\n",
          "output_type": "stream"
        },
        {
          "name": "stderr",
          "text": "Evaluating:  31%|███       | 69/223 [00:37<01:20,  1.90it/s]Setting `pad_token_id` to `eos_token_id`:50256 for open-end generation.\nA decoder-only architecture is being used, but right-padding was detected! For correct generation results, please set `padding_side='left'` when initializing the tokenizer.\n",
          "output_type": "stream"
        },
        {
          "name": "stdout",
          "text": "Generated Summary: Awesome\nOriginal Summary: Awesome\n--------------------------------------------------\n",
          "output_type": "stream"
        },
        {
          "name": "stderr",
          "text": "Evaluating:  31%|███▏      | 70/223 [00:37<01:20,  1.91it/s]Setting `pad_token_id` to `eos_token_id`:50256 for open-end generation.\nA decoder-only architecture is being used, but right-padding was detected! For correct generation results, please set `padding_side='left'` when initializing the tokenizer.\n",
          "output_type": "stream"
        },
        {
          "name": "stdout",
          "text": "Generated Summary: Great water!\nOriginal Summary: Great water!\n--------------------------------------------------\n",
          "output_type": "stream"
        },
        {
          "name": "stderr",
          "text": "Evaluating:  32%|███▏      | 71/223 [00:38<01:19,  1.92it/s]Setting `pad_token_id` to `eos_token_id`:50256 for open-end generation.\nA decoder-only architecture is being used, but right-padding was detected! For correct generation results, please set `padding_side='left'` when initializing the tokenizer.\n",
          "output_type": "stream"
        },
        {
          "name": "stdout",
          "text": "Generated Summary: first got introduced starkist tuna fillet gourmet olive oil, purchased several cans big name `` mart ''. impressed tuna packed olive oil. solid tuna slightly darker solid white albacore, good taste apparently contains less trace mercury solid white tuna. went back `` mart '', item longer offered, turned amazon. ordered two cases 12 cans per order. received one case 12 cans. received one case 12 cans. received one case 12 cans. received one case 12 cans. received one case 12\nOriginal Summary: Solid In Olive Oil -- Sort Of\n--------------------------------------------------\n",
          "output_type": "stream"
        },
        {
          "name": "stderr",
          "text": "Evaluating:  32%|███▏      | 72/223 [00:38<01:18,  1.92it/s]Setting `pad_token_id` to `eos_token_id`:50256 for open-end generation.\nA decoder-only architecture is being used, but right-padding was detected! For correct generation results, please set `padding_side='left'` when initializing the tokenizer.\n",
          "output_type": "stream"
        },
        {
          "name": "stdout",
          "text": "Generated Summary: peppercorns beautiful rosy color, clues even get chance open package're peppercorns've known life. pull open bag inhale aroma, 'll find combine scent pepper wonderful fruity, almost floral overtone.'s hard describe, even harder imagine've experienced. lovely part flavor profilen't diminish use ; ground steeped, added water, pepper, onion powder, garlic powder, pepper powder, salt, pepper, pepper, onion powder, garlic powder, salt, pepper\nOriginal Summary: A bit different, and wonderful\n--------------------------------------------------\n",
          "output_type": "stream"
        },
        {
          "name": "stderr",
          "text": "Evaluating:  33%|███▎      | 73/223 [00:39<01:18,  1.92it/s]Setting `pad_token_id` to `eos_token_id`:50256 for open-end generation.\nA decoder-only architecture is being used, but right-padding was detected! For correct generation results, please set `padding_side='left'` when initializing the tokenizer.\n",
          "output_type": "stream"
        },
        {
          "name": "stdout",
          "text": "Generated Summary: Not as Advertised\nOriginal Summary: Not as Advertised\n--------------------------------------------------\n",
          "output_type": "stream"
        },
        {
          "name": "stderr",
          "text": "Evaluating:  33%|███▎      | 74/223 [00:40<01:17,  1.92it/s]Setting `pad_token_id` to `eos_token_id`:50256 for open-end generation.\nA decoder-only architecture is being used, but right-padding was detected! For correct generation results, please set `padding_side='left'` when initializing the tokenizer.\n",
          "output_type": "stream"
        },
        {
          "name": "stdout",
          "text": "Generated Summary: Great Taste, Great Price\nOriginal Summary: Popchips BBQ Potato Chips\n--------------------------------------------------\n",
          "output_type": "stream"
        },
        {
          "name": "stderr",
          "text": "Evaluating:  34%|███▎      | 75/223 [00:40<01:17,  1.91it/s]Setting `pad_token_id` to `eos_token_id`:50256 for open-end generation.\nA decoder-only architecture is being used, but right-padding was detected! For correct generation results, please set `padding_side='left'` when initializing the tokenizer.\n",
          "output_type": "stream"
        },
        {
          "name": "stdout",
          "text": "Generated Summary: Refreshing and Delicious\nOriginal Summary: Refreshing and Delicious\n--------------------------------------------------\n",
          "output_type": "stream"
        },
        {
          "name": "stderr",
          "text": "Evaluating:  34%|███▍      | 76/223 [00:41<01:17,  1.91it/s]Setting `pad_token_id` to `eos_token_id`:50256 for open-end generation.\nA decoder-only architecture is being used, but right-padding was detected! For correct generation results, please set `padding_side='left'` when initializing the tokenizer.\n",
          "output_type": "stream"
        },
        {
          "name": "stdout",
          "text": "Generated Summary: Great for thirst quenching\nOriginal Summary: My water substitute...\n--------------------------------------------------\n",
          "output_type": "stream"
        },
        {
          "name": "stderr",
          "text": "Evaluating:  35%|███▍      | 77/223 [00:41<01:16,  1.91it/s]Setting `pad_token_id` to `eos_token_id`:50256 for open-end generation.\nA decoder-only architecture is being used, but right-padding was detected! For correct generation results, please set `padding_side='left'` when initializing the tokenizer.\n",
          "output_type": "stream"
        },
        {
          "name": "stdout",
          "text": "Generated Summary: Royal icing is great!\nOriginal Summary: Wonderful stuff!\n--------------------------------------------------\n",
          "output_type": "stream"
        },
        {
          "name": "stderr",
          "text": "Evaluating:  35%|███▍      | 78/223 [00:42<01:15,  1.91it/s]Setting `pad_token_id` to `eos_token_id`:50256 for open-end generation.\nA decoder-only architecture is being used, but right-padding was detected! For correct generation results, please set `padding_side='left'` when initializing the tokenizer.\n",
          "output_type": "stream"
        },
        {
          "name": "stdout",
          "text": "Generated Summary: Great Basic Food\nOriginal Summary: Great product, fast delivery\n--------------------------------------------------\n",
          "output_type": "stream"
        },
        {
          "name": "stderr",
          "text": "Evaluating:  35%|███▌      | 79/223 [00:42<01:16,  1.87it/s]Setting `pad_token_id` to `eos_token_id`:50256 for open-end generation.\nA decoder-only architecture is being used, but right-padding was detected! For correct generation results, please set `padding_side='left'` when initializing the tokenizer.\n",
          "output_type": "stream"
        },
        {
          "name": "stdout",
          "text": "Generated Summary: Yummy!\nOriginal Summary: the amazing chocolate treat\n--------------------------------------------------\n",
          "output_type": "stream"
        },
        {
          "name": "stderr",
          "text": "Evaluating:  36%|███▌      | 80/223 [00:43<01:16,  1.86it/s]Setting `pad_token_id` to `eos_token_id`:50256 for open-end generation.\nA decoder-only architecture is being used, but right-padding was detected! For correct generation results, please set `padding_side='left'` when initializing the tokenizer.\n",
          "output_type": "stream"
        },
        {
          "name": "stdout",
          "text": "Generated Summary: Too much caramel cream, not enough coffee\nOriginal Summary: Too much caramel cream, not enough coffee\n--------------------------------------------------\n",
          "output_type": "stream"
        },
        {
          "name": "stderr",
          "text": "Evaluating:  36%|███▋      | 81/223 [00:43<01:15,  1.88it/s]Setting `pad_token_id` to `eos_token_id`:50256 for open-end generation.\nA decoder-only architecture is being used, but right-padding was detected! For correct generation results, please set `padding_side='left'` when initializing the tokenizer.\n",
          "output_type": "stream"
        },
        {
          "name": "stdout",
          "text": "Generated Summary: Surprisingly good\nOriginal Summary: Surprisingly good\n--------------------------------------------------\n",
          "output_type": "stream"
        },
        {
          "name": "stderr",
          "text": "Evaluating:  37%|███▋      | 82/223 [00:44<01:14,  1.89it/s]Setting `pad_token_id` to `eos_token_id`:50256 for open-end generation.\nA decoder-only architecture is being used, but right-padding was detected! For correct generation results, please set `padding_side='left'` when initializing the tokenizer.\n",
          "output_type": "stream"
        },
        {
          "name": "stdout",
          "text": "Generated Summary: This prouduct, make the best crab cakes\nOriginal Summary: This prouduct, make the best crab cakes\n--------------------------------------------------\n",
          "output_type": "stream"
        },
        {
          "name": "stderr",
          "text": "Evaluating:  37%|███▋      | 83/223 [00:44<01:13,  1.90it/s]Setting `pad_token_id` to `eos_token_id`:50256 for open-end generation.\nA decoder-only architecture is being used, but right-padding was detected! For correct generation results, please set `padding_side='left'` when initializing the tokenizer.\n",
          "output_type": "stream"
        },
        {
          "name": "stdout",
          "text": "Generated Summary: Not a fan of the avocado oil\nOriginal Summary: A suggestion on how to handle dented cans\n--------------------------------------------------\n",
          "output_type": "stream"
        },
        {
          "name": "stderr",
          "text": "Evaluating:  38%|███▊      | 84/223 [00:45<01:13,  1.90it/s]Setting `pad_token_id` to `eos_token_id`:50256 for open-end generation.\nA decoder-only architecture is being used, but right-padding was detected! For correct generation results, please set `padding_side='left'` when initializing the tokenizer.\n",
          "output_type": "stream"
        },
        {
          "name": "stdout",
          "text": "Generated Summary: Incredible snack bars\nOriginal Summary: Incredible snack bars\n--------------------------------------------------\n",
          "output_type": "stream"
        },
        {
          "name": "stderr",
          "text": "Evaluating:  38%|███▊      | 85/223 [00:45<01:12,  1.90it/s]Setting `pad_token_id` to `eos_token_id`:50256 for open-end generation.\nA decoder-only architecture is being used, but right-padding was detected! For correct generation results, please set `padding_side='left'` when initializing the tokenizer.\n",
          "output_type": "stream"
        },
        {
          "name": "stdout",
          "text": "Generated Summary: thinkthin best-tasting low-carb gluten-free protein bars, opinion. available many stores ordered box amazon awhile ago. much cheaper every store've online price. even whole foods, typically pay $ 1.69 per bar, get slight discount buying entire box. add shipping amazon's prices, expensive online. also, keep mind bars contain wheat, dairy, eggs, soy, corn syrup, gluten free, gluten free, soy free, soy free, soy free, soy\nOriginal Summary: Good, but by locally, if possible\n--------------------------------------------------\n",
          "output_type": "stream"
        },
        {
          "name": "stderr",
          "text": "Evaluating:  39%|███▊      | 86/223 [00:46<01:13,  1.86it/s]Setting `pad_token_id` to `eos_token_id`:50256 for open-end generation.\nA decoder-only architecture is being used, but right-padding was detected! For correct generation results, please set `padding_side='left'` when initializing the tokenizer.\n",
          "output_type": "stream"
        },
        {
          "name": "stdout",
          "text": "Generated Summary: Love this stuff!\nOriginal Summary: Ooooh-la-la\n--------------------------------------------------\n",
          "output_type": "stream"
        },
        {
          "name": "stderr",
          "text": "Evaluating:  39%|███▉      | 87/223 [00:46<01:12,  1.87it/s]Setting `pad_token_id` to `eos_token_id`:50256 for open-end generation.\nA decoder-only architecture is being used, but right-padding was detected! For correct generation results, please set `padding_side='left'` when initializing the tokenizer.\n",
          "output_type": "stream"
        },
        {
          "name": "stdout",
          "text": "Generated Summary: great food option\nOriginal Summary: great food option\n--------------------------------------------------\n",
          "output_type": "stream"
        },
        {
          "name": "stderr",
          "text": "Evaluating:  39%|███▉      | 88/223 [00:47<01:11,  1.89it/s]Setting `pad_token_id` to `eos_token_id`:50256 for open-end generation.\nA decoder-only architecture is being used, but right-padding was detected! For correct generation results, please set `padding_side='left'` when initializing the tokenizer.\n",
          "output_type": "stream"
        },
        {
          "name": "stdout",
          "text": "Generated Summary: Great beans!\nOriginal Summary: Spicy world\n--------------------------------------------------\n",
          "output_type": "stream"
        },
        {
          "name": "stderr",
          "text": "Evaluating:  40%|███▉      | 89/223 [00:47<01:10,  1.90it/s]Setting `pad_token_id` to `eos_token_id`:50256 for open-end generation.\nA decoder-only architecture is being used, but right-padding was detected! For correct generation results, please set `padding_side='left'` when initializing the tokenizer.\n",
          "output_type": "stream"
        },
        {
          "name": "stdout",
          "text": "Generated Summary: best sugar free cone I've found\nOriginal Summary: best sugar free cone I've found\n--------------------------------------------------\n",
          "output_type": "stream"
        },
        {
          "name": "stderr",
          "text": "Evaluating:  40%|████      | 90/223 [00:48<01:09,  1.91it/s]Setting `pad_token_id` to `eos_token_id`:50256 for open-end generation.\nA decoder-only architecture is being used, but right-padding was detected! For correct generation results, please set `padding_side='left'` when initializing the tokenizer.\n",
          "output_type": "stream"
        },
        {
          "name": "stdout",
          "text": "Generated Summary: Awesome tasting!\nOriginal Summary: Awesome tasting!\n--------------------------------------------------\n",
          "output_type": "stream"
        },
        {
          "name": "stderr",
          "text": "Evaluating:  41%|████      | 91/223 [00:48<01:09,  1.91it/s]Setting `pad_token_id` to `eos_token_id`:50256 for open-end generation.\nA decoder-only architecture is being used, but right-padding was detected! For correct generation results, please set `padding_side='left'` when initializing the tokenizer.\n",
          "output_type": "stream"
        },
        {
          "name": "stdout",
          "text": "Generated Summary: Good for low carbs\nOriginal Summary: Good for low carbs\n--------------------------------------------------\n",
          "output_type": "stream"
        },
        {
          "name": "stderr",
          "text": "Evaluating:  41%|████▏     | 92/223 [00:49<01:08,  1.91it/s]Setting `pad_token_id` to `eos_token_id`:50256 for open-end generation.\nA decoder-only architecture is being used, but right-padding was detected! For correct generation results, please set `padding_side='left'` when initializing the tokenizer.\n",
          "output_type": "stream"
        },
        {
          "name": "stdout",
          "text": "Generated Summary: Great Gift\nOriginal Summary: Great Gift\n--------------------------------------------------\n",
          "output_type": "stream"
        },
        {
          "name": "stderr",
          "text": "Evaluating:  42%|████▏     | 93/223 [00:50<01:08,  1.90it/s]Setting `pad_token_id` to `eos_token_id`:50256 for open-end generation.\nA decoder-only architecture is being used, but right-padding was detected! For correct generation results, please set `padding_side='left'` when initializing the tokenizer.\n",
          "output_type": "stream"
        },
        {
          "name": "stdout",
          "text": "Generated Summary: price alone good deal. picked $ 13, considering things normally retail individually gift shops $ 4- $ 5. alone pretty nice. cool thing fact contained neapolitan ice cream.'ve never actually seen chocolate chip, ice cream sandwich sale anywhere else.neapolitan :'ve ever astronaut icecream'm sure one've.'s pretty good,'s pretty good.'s pretty good,'s pretty good.'s pretty good,'s pretty good.'s\nOriginal Summary: Great deal, and great product.\n--------------------------------------------------\n",
          "output_type": "stream"
        },
        {
          "name": "stderr",
          "text": "Evaluating:  42%|████▏     | 94/223 [00:50<01:07,  1.90it/s]Setting `pad_token_id` to `eos_token_id`:50256 for open-end generation.\nA decoder-only architecture is being used, but right-padding was detected! For correct generation results, please set `padding_side='left'` when initializing the tokenizer.\n",
          "output_type": "stream"
        },
        {
          "name": "stdout",
          "text": "Generated Summary: Yuk!\nOriginal Summary: Yuk!\n--------------------------------------------------\n",
          "output_type": "stream"
        },
        {
          "name": "stderr",
          "text": "Evaluating:  43%|████▎     | 95/223 [00:51<01:07,  1.91it/s]Setting `pad_token_id` to `eos_token_id`:50256 for open-end generation.\nA decoder-only architecture is being used, but right-padding was detected! For correct generation results, please set `padding_side='left'` when initializing the tokenizer.\n",
          "output_type": "stream"
        },
        {
          "name": "stdout",
          "text": "Generated Summary: An indulgence with a bite\nOriginal Summary: An indulgence with a bite\n--------------------------------------------------\n",
          "output_type": "stream"
        },
        {
          "name": "stderr",
          "text": "Evaluating:  43%|████▎     | 96/223 [00:51<01:06,  1.91it/s]Setting `pad_token_id` to `eos_token_id`:50256 for open-end generation.\nA decoder-only architecture is being used, but right-padding was detected! For correct generation results, please set `padding_side='left'` when initializing the tokenizer.\n",
          "output_type": "stream"
        },
        {
          "name": "stdout",
          "text": "Generated Summary: Great Snack for the Family\nOriginal Summary: Great Snack for the Family\n--------------------------------------------------\n",
          "output_type": "stream"
        },
        {
          "name": "stderr",
          "text": "Evaluating:  43%|████▎     | 97/223 [00:52<01:06,  1.90it/s]Setting `pad_token_id` to `eos_token_id`:50256 for open-end generation.\nA decoder-only architecture is being used, but right-padding was detected! For correct generation results, please set `padding_side='left'` when initializing the tokenizer.\n",
          "output_type": "stream"
        },
        {
          "name": "stdout",
          "text": "Generated Summary: THIS IS NOT WHAT YOU HAD IN THE 50'S AND 60'S\nOriginal Summary: THIS IS NOT WHAT YOU HAD IN THE 50'S AND 60'S\n--------------------------------------------------\n",
          "output_type": "stream"
        },
        {
          "name": "stderr",
          "text": "Evaluating:  44%|████▍     | 98/223 [00:52<01:05,  1.91it/s]Setting `pad_token_id` to `eos_token_id`:50256 for open-end generation.\nA decoder-only architecture is being used, but right-padding was detected! For correct generation results, please set `padding_side='left'` when initializing the tokenizer.\n",
          "output_type": "stream"
        },
        {
          "name": "stdout",
          "text": "Generated Summary: world toxic factory farming, unnatural additives/feed ( mad cow anyone? ) making sick cows ( rbgh pus milk ) avoid dairy grass-fed cows. shop organic, know expensive animal products.so far know, goat dairy free evils.i tried goat products reading couple books natural diet healing dr jordan rubin. `` maker's diet '','s like. goat milk, goat milk, goat milk, goat milk, goat milk, goat milk, goat milk, goat milk,\nOriginal Summary: love it - u could chase me w/cow's milk though!\n--------------------------------------------------\n",
          "output_type": "stream"
        },
        {
          "name": "stderr",
          "text": "Evaluating:  44%|████▍     | 99/223 [00:53<01:05,  1.90it/s]Setting `pad_token_id` to `eos_token_id`:50256 for open-end generation.\nA decoder-only architecture is being used, but right-padding was detected! For correct generation results, please set `padding_side='left'` when initializing the tokenizer.\n",
          "output_type": "stream"
        },
        {
          "name": "stdout",
          "text": "Generated Summary: best ever\nOriginal Summary: best ever\n--------------------------------------------------\n",
          "output_type": "stream"
        },
        {
          "name": "stderr",
          "text": "Evaluating:  45%|████▍     | 100/223 [00:53<01:04,  1.91it/s]Setting `pad_token_id` to `eos_token_id`:50256 for open-end generation.\nA decoder-only architecture is being used, but right-padding was detected! For correct generation results, please set `padding_side='left'` when initializing the tokenizer.\n",
          "output_type": "stream"
        },
        {
          "name": "stdout",
          "text": "Generated Summary: Great flavor\nOriginal Summary: Great flavor\n--------------------------------------------------\n",
          "output_type": "stream"
        },
        {
          "name": "stderr",
          "text": "Evaluating:  45%|████▌     | 101/223 [00:54<01:03,  1.91it/s]Setting `pad_token_id` to `eos_token_id`:50256 for open-end generation.\nA decoder-only architecture is being used, but right-padding was detected! For correct generation results, please set `padding_side='left'` when initializing the tokenizer.\n",
          "output_type": "stream"
        },
        {
          "name": "stdout",
          "text": "Generated Summary: Very Good Tea\nOriginal Summary: Very Good Tea\n--------------------------------------------------\n",
          "output_type": "stream"
        },
        {
          "name": "stderr",
          "text": "Evaluating:  46%|████▌     | 102/223 [00:54<01:03,  1.91it/s]Setting `pad_token_id` to `eos_token_id`:50256 for open-end generation.\nA decoder-only architecture is being used, but right-padding was detected! For correct generation results, please set `padding_side='left'` when initializing the tokenizer.\n",
          "output_type": "stream"
        },
        {
          "name": "stdout",
          "text": "Generated Summary: Great quality\nOriginal Summary: Classic Jimmies!\n--------------------------------------------------\n",
          "output_type": "stream"
        },
        {
          "name": "stderr",
          "text": "Evaluating:  46%|████▌     | 103/223 [00:55<01:02,  1.91it/s]Setting `pad_token_id` to `eos_token_id`:50256 for open-end generation.\nA decoder-only architecture is being used, but right-padding was detected! For correct generation results, please set `padding_side='left'` when initializing the tokenizer.\n",
          "output_type": "stream"
        },
        {
          "name": "stdout",
          "text": "Generated Summary: Great beans!\nOriginal Summary: A Must for your kitchen pantry!!\n--------------------------------------------------\n",
          "output_type": "stream"
        },
        {
          "name": "stderr",
          "text": "Evaluating:  47%|████▋     | 104/223 [00:55<01:02,  1.91it/s]Setting `pad_token_id` to `eos_token_id`:50256 for open-end generation.\nA decoder-only architecture is being used, but right-padding was detected! For correct generation results, please set `padding_side='left'` when initializing the tokenizer.\n",
          "output_type": "stream"
        },
        {
          "name": "stdout",
          "text": "Generated Summary: THESE ARE GREAT\nOriginal Summary: THESE ARE GREAT\n--------------------------------------------------\n",
          "output_type": "stream"
        },
        {
          "name": "stderr",
          "text": "Evaluating:  47%|████▋     | 105/223 [00:56<01:02,  1.90it/s]Setting `pad_token_id` to `eos_token_id`:50256 for open-end generation.\nA decoder-only architecture is being used, but right-padding was detected! For correct generation results, please set `padding_side='left'` when initializing the tokenizer.\n",
          "output_type": "stream"
        },
        {
          "name": "stdout",
          "text": "Generated Summary: Gluten free bread\nOriginal Summary: Gluten free bread\n--------------------------------------------------\n",
          "output_type": "stream"
        },
        {
          "name": "stderr",
          "text": "Evaluating:  48%|████▊     | 106/223 [00:56<01:01,  1.90it/s]Setting `pad_token_id` to `eos_token_id`:50256 for open-end generation.\nA decoder-only architecture is being used, but right-padding was detected! For correct generation results, please set `padding_side='left'` when initializing the tokenizer.\n",
          "output_type": "stream"
        },
        {
          "name": "stdout",
          "text": "Generated Summary: Worm found on Greenies Joint Care\nOriginal Summary: Worm found on Greenies Joint Care\n--------------------------------------------------\n",
          "output_type": "stream"
        },
        {
          "name": "stderr",
          "text": "Evaluating:  48%|████▊     | 107/223 [00:57<01:00,  1.91it/s]Setting `pad_token_id` to `eos_token_id`:50256 for open-end generation.\nA decoder-only architecture is being used, but right-padding was detected! For correct generation results, please set `padding_side='left'` when initializing the tokenizer.\n",
          "output_type": "stream"
        },
        {
          "name": "stdout",
          "text": "Generated Summary: Easy and Good\nOriginal Summary: Easy and Good\n--------------------------------------------------\n",
          "output_type": "stream"
        },
        {
          "name": "stderr",
          "text": "Evaluating:  48%|████▊     | 108/223 [00:57<01:00,  1.92it/s]Setting `pad_token_id` to `eos_token_id`:50256 for open-end generation.\nA decoder-only architecture is being used, but right-padding was detected! For correct generation results, please set `padding_side='left'` when initializing the tokenizer.\n",
          "output_type": "stream"
        },
        {
          "name": "stdout",
          "text": "Generated Summary: according manufacturer's website, ( many products ) contains menadione sodium bisulfite complex.menadione synthetic precursor vitamin k reported toxic effects. use menadione natural alternatives ( leafy greens kelp ) cost-saving reasons, hence usually found cheaper lower quality animal food.'s surprising pet food high price actually contains substance.menadione synthetic precursor vitamin k reported toxic effects.'s also found menadione synthetic precursor vitamin k toxic effects.'s also found menad\nOriginal Summary: Warning: Contains Menadione\n--------------------------------------------------\n",
          "output_type": "stream"
        },
        {
          "name": "stderr",
          "text": "Evaluating:  49%|████▉     | 109/223 [00:58<00:59,  1.92it/s]Setting `pad_token_id` to `eos_token_id`:50256 for open-end generation.\nA decoder-only architecture is being used, but right-padding was detected! For correct generation results, please set `padding_side='left'` when initializing the tokenizer.\n",
          "output_type": "stream"
        },
        {
          "name": "stdout",
          "text": "Generated Summary: Delicious BBQ Chips\nOriginal Summary: Delicious BBQ Chips\n--------------------------------------------------\n",
          "output_type": "stream"
        },
        {
          "name": "stderr",
          "text": "Evaluating:  49%|████▉     | 110/223 [00:58<00:58,  1.92it/s]Setting `pad_token_id` to `eos_token_id`:50256 for open-end generation.\nA decoder-only architecture is being used, but right-padding was detected! For correct generation results, please set `padding_side='left'` when initializing the tokenizer.\n",
          "output_type": "stream"
        },
        {
          "name": "stdout",
          "text": "Generated Summary: Great busy toy\nOriginal Summary: Great busy toy\n--------------------------------------------------\n",
          "output_type": "stream"
        },
        {
          "name": "stderr",
          "text": "Evaluating:  50%|████▉     | 111/223 [00:59<00:58,  1.92it/s]Setting `pad_token_id` to `eos_token_id`:50256 for open-end generation.\nA decoder-only architecture is being used, but right-padding was detected! For correct generation results, please set `padding_side='left'` when initializing the tokenizer.\n",
          "output_type": "stream"
        },
        {
          "name": "stdout",
          "text": "Generated Summary: Delicious!\nOriginal Summary: Delicious!\n--------------------------------------------------\n",
          "output_type": "stream"
        },
        {
          "name": "stderr",
          "text": "Evaluating:  50%|█████     | 112/223 [00:59<00:53,  2.07it/s]Setting `pad_token_id` to `eos_token_id`:50256 for open-end generation.\nA decoder-only architecture is being used, but right-padding was detected! For correct generation results, please set `padding_side='left'` when initializing the tokenizer.\n",
          "output_type": "stream"
        },
        {
          "name": "stdout",
          "text": "Generated Summary: Works Awesome\nOriginal Summary: Works Awesome\n--------------------------------------------------\n",
          "output_type": "stream"
        },
        {
          "name": "stderr",
          "text": "Evaluating:  51%|█████     | 113/223 [01:00<00:54,  2.02it/s]Setting `pad_token_id` to `eos_token_id`:50256 for open-end generation.\nA decoder-only architecture is being used, but right-padding was detected! For correct generation results, please set `padding_side='left'` when initializing the tokenizer.\n",
          "output_type": "stream"
        },
        {
          "name": "stdout",
          "text": "Generated Summary: Just a good cup of coffee\nOriginal Summary: Just a good cup of coffee\n--------------------------------------------------\n",
          "output_type": "stream"
        },
        {
          "name": "stderr",
          "text": "Evaluating:  51%|█████     | 114/223 [01:00<00:54,  2.00it/s]Setting `pad_token_id` to `eos_token_id`:50256 for open-end generation.\nA decoder-only architecture is being used, but right-padding was detected! For correct generation results, please set `padding_side='left'` when initializing the tokenizer.\n",
          "output_type": "stream"
        },
        {
          "name": "stdout",
          "text": "Generated Summary: I've had better\nOriginal Summary: I've had better\n--------------------------------------------------\n",
          "output_type": "stream"
        },
        {
          "name": "stderr",
          "text": "Evaluating:  52%|█████▏    | 115/223 [01:01<00:54,  1.97it/s]Setting `pad_token_id` to `eos_token_id`:50256 for open-end generation.\nA decoder-only architecture is being used, but right-padding was detected! For correct generation results, please set `padding_side='left'` when initializing the tokenizer.\n",
          "output_type": "stream"
        },
        {
          "name": "stdout",
          "text": "Generated Summary: Not what I expected\nOriginal Summary: Not my cup of tea\n--------------------------------------------------\n",
          "output_type": "stream"
        },
        {
          "name": "stderr",
          "text": "Evaluating:  52%|█████▏    | 116/223 [01:01<00:54,  1.96it/s]Setting `pad_token_id` to `eos_token_id`:50256 for open-end generation.\nA decoder-only architecture is being used, but right-padding was detected! For correct generation results, please set `padding_side='left'` when initializing the tokenizer.\n",
          "output_type": "stream"
        },
        {
          "name": "stdout",
          "text": "Generated Summary: Gummy Frog 5 lb bag\nOriginal Summary: Gummy Frog 5 lb bag\n--------------------------------------------------\n",
          "output_type": "stream"
        },
        {
          "name": "stderr",
          "text": "Evaluating:  52%|█████▏    | 117/223 [01:02<00:50,  2.09it/s]Setting `pad_token_id` to `eos_token_id`:50256 for open-end generation.\nA decoder-only architecture is being used, but right-padding was detected! For correct generation results, please set `padding_side='left'` when initializing the tokenizer.\n",
          "output_type": "stream"
        },
        {
          "name": "stdout",
          "text": "Generated Summary: Not bad, but not great\nOriginal Summary: Good for low acidic coffee\n--------------------------------------------------\n",
          "output_type": "stream"
        },
        {
          "name": "stderr",
          "text": "Evaluating:  53%|█████▎    | 118/223 [01:02<00:51,  2.05it/s]Setting `pad_token_id` to `eos_token_id`:50256 for open-end generation.\nA decoder-only architecture is being used, but right-padding was detected! For correct generation results, please set `padding_side='left'` when initializing the tokenizer.\n",
          "output_type": "stream"
        },
        {
          "name": "stdout",
          "text": "Generated Summary: must odd man... powdered goat milk horrible! 18 month old son allergic dairy soy, hence reason goat milk. going vacation two weeks, afraid would source goat milk destination. drinks almost quart day regular liquid goat milk purchase trader joe's, figured would go gusto buy two weeks supply. smelled horrible importantly tasted horrible! words even describe disgusting stuff!!!!!!!!!!!!!!!!!!!!!!!!!!!!!!\nOriginal Summary: HORRIBLE!\n--------------------------------------------------\n",
          "output_type": "stream"
        },
        {
          "name": "stderr",
          "text": "Evaluating:  53%|█████▎    | 119/223 [01:03<00:51,  2.02it/s]Setting `pad_token_id` to `eos_token_id`:50256 for open-end generation.\nA decoder-only architecture is being used, but right-padding was detected! For correct generation results, please set `padding_side='left'` when initializing the tokenizer.\n",
          "output_type": "stream"
        },
        {
          "name": "stdout",
          "text": "Generated Summary: Love the new flavor!\nOriginal Summary: Love the new flavor!\n--------------------------------------------------\n",
          "output_type": "stream"
        },
        {
          "name": "stderr",
          "text": "Evaluating:  54%|█████▍    | 120/223 [01:03<00:51,  1.99it/s]Setting `pad_token_id` to `eos_token_id`:50256 for open-end generation.\nA decoder-only architecture is being used, but right-padding was detected! For correct generation results, please set `padding_side='left'` when initializing the tokenizer.\n",
          "output_type": "stream"
        },
        {
          "name": "stdout",
          "text": "Generated Summary: Yogi Tea Review\nOriginal Summary: Yogi Tea Review\n--------------------------------------------------\n",
          "output_type": "stream"
        },
        {
          "name": "stderr",
          "text": "Evaluating:  54%|█████▍    | 121/223 [01:04<00:51,  1.97it/s]Setting `pad_token_id` to `eos_token_id`:50256 for open-end generation.\nA decoder-only architecture is being used, but right-padding was detected! For correct generation results, please set `padding_side='left'` when initializing the tokenizer.\n",
          "output_type": "stream"
        },
        {
          "name": "stdout",
          "text": "Generated Summary: Ms. Mac's Review\nOriginal Summary: Ms. Mac's Review\n--------------------------------------------------\n",
          "output_type": "stream"
        },
        {
          "name": "stderr",
          "text": "Evaluating:  55%|█████▍    | 122/223 [01:04<00:51,  1.96it/s]Setting `pad_token_id` to `eos_token_id`:50256 for open-end generation.\nA decoder-only architecture is being used, but right-padding was detected! For correct generation results, please set `padding_side='left'` when initializing the tokenizer.\n",
          "output_type": "stream"
        },
        {
          "name": "stdout",
          "text": "Generated Summary: These were amazing!\nOriginal Summary: These were amazing!\n--------------------------------------------------\n",
          "output_type": "stream"
        },
        {
          "name": "stderr",
          "text": "Evaluating:  55%|█████▌    | 123/223 [01:05<00:51,  1.95it/s]Setting `pad_token_id` to `eos_token_id`:50256 for open-end generation.\nA decoder-only architecture is being used, but right-padding was detected! For correct generation results, please set `padding_side='left'` when initializing the tokenizer.\n",
          "output_type": "stream"
        },
        {
          "name": "stdout",
          "text": "Generated Summary: Great snack!\nOriginal Summary: Great snack!\n--------------------------------------------------\n",
          "output_type": "stream"
        },
        {
          "name": "stderr",
          "text": "Evaluating:  56%|█████▌    | 124/223 [01:05<00:50,  1.94it/s]Setting `pad_token_id` to `eos_token_id`:50256 for open-end generation.\nA decoder-only architecture is being used, but right-padding was detected! For correct generation results, please set `padding_side='left'` when initializing the tokenizer.\n",
          "output_type": "stream"
        },
        {
          "name": "stdout",
          "text": "Generated Summary: Much weaker blend than the original\nOriginal Summary: Much weaker blend than the original\n--------------------------------------------------\n",
          "output_type": "stream"
        },
        {
          "name": "stderr",
          "text": "Evaluating:  56%|█████▌    | 125/223 [01:06<00:50,  1.93it/s]Setting `pad_token_id` to `eos_token_id`:50256 for open-end generation.\nA decoder-only architecture is being used, but right-padding was detected! For correct generation results, please set `padding_side='left'` when initializing the tokenizer.\n",
          "output_type": "stream"
        },
        {
          "name": "stdout",
          "text": "Generated Summary: I love this tea!\nOriginal Summary: First time tryer\n--------------------------------------------------\n",
          "output_type": "stream"
        },
        {
          "name": "stderr",
          "text": "Evaluating:  57%|█████▋    | 126/223 [01:07<00:50,  1.91it/s]Setting `pad_token_id` to `eos_token_id`:50256 for open-end generation.\nA decoder-only architecture is being used, but right-padding was detected! For correct generation results, please set `padding_side='left'` when initializing the tokenizer.\n",
          "output_type": "stream"
        },
        {
          "name": "stdout",
          "text": "Generated Summary: Wonderful tasting coffee\nOriginal Summary: Wonderful tasting coffee\n--------------------------------------------------\n",
          "output_type": "stream"
        },
        {
          "name": "stderr",
          "text": "Evaluating:  57%|█████▋    | 127/223 [01:07<00:49,  1.92it/s]Setting `pad_token_id` to `eos_token_id`:50256 for open-end generation.\nA decoder-only architecture is being used, but right-padding was detected! For correct generation results, please set `padding_side='left'` when initializing the tokenizer.\n",
          "output_type": "stream"
        },
        {
          "name": "stdout",
          "text": "Generated Summary: Cat loves these treats\nOriginal Summary: Cat loves these treats\n--------------------------------------------------\n",
          "output_type": "stream"
        },
        {
          "name": "stderr",
          "text": "Evaluating:  57%|█████▋    | 128/223 [01:08<00:49,  1.91it/s]Setting `pad_token_id` to `eos_token_id`:50256 for open-end generation.\nA decoder-only architecture is being used, but right-padding was detected! For correct generation results, please set `padding_side='left'` when initializing the tokenizer.\n",
          "output_type": "stream"
        },
        {
          "name": "stdout",
          "text": "Generated Summary: Good Coffee\nOriginal Summary: Good Coffee\n--------------------------------------------------\n",
          "output_type": "stream"
        },
        {
          "name": "stderr",
          "text": "Evaluating:  58%|█████▊    | 129/223 [01:08<00:49,  1.91it/s]Setting `pad_token_id` to `eos_token_id`:50256 for open-end generation.\nA decoder-only architecture is being used, but right-padding was detected! For correct generation results, please set `padding_side='left'` when initializing the tokenizer.\n",
          "output_type": "stream"
        },
        {
          "name": "stdout",
          "text": "Generated Summary: Good sauce\nOriginal Summary: Delicious Quick and Easy\n--------------------------------------------------\n",
          "output_type": "stream"
        },
        {
          "name": "stderr",
          "text": "Evaluating:  58%|█████▊    | 130/223 [01:09<00:48,  1.91it/s]Setting `pad_token_id` to `eos_token_id`:50256 for open-end generation.\nA decoder-only architecture is being used, but right-padding was detected! For correct generation results, please set `padding_side='left'` when initializing the tokenizer.\n",
          "output_type": "stream"
        },
        {
          "name": "stdout",
          "text": "Generated Summary: Stashi Tea\nOriginal Summary: Stashi Tea\n--------------------------------------------------\n",
          "output_type": "stream"
        },
        {
          "name": "stderr",
          "text": "Evaluating:  59%|█████▊    | 131/223 [01:09<00:48,  1.92it/s]Setting `pad_token_id` to `eos_token_id`:50256 for open-end generation.\nA decoder-only architecture is being used, but right-padding was detected! For correct generation results, please set `padding_side='left'` when initializing the tokenizer.\n",
          "output_type": "stream"
        },
        {
          "name": "stdout",
          "text": "Generated Summary: The Little One Loves This\nOriginal Summary: The Little One Loves This\n--------------------------------------------------\n",
          "output_type": "stream"
        },
        {
          "name": "stderr",
          "text": "Evaluating:  59%|█████▉    | 132/223 [01:10<00:47,  1.90it/s]Setting `pad_token_id` to `eos_token_id`:50256 for open-end generation.\nA decoder-only architecture is being used, but right-padding was detected! For correct generation results, please set `padding_side='left'` when initializing the tokenizer.\n",
          "output_type": "stream"
        },
        {
          "name": "stdout",
          "text": "Generated Summary: Really for puppies!\nOriginal Summary: Really for puppies!\n--------------------------------------------------\n",
          "output_type": "stream"
        },
        {
          "name": "stderr",
          "text": "Evaluating:  60%|█████▉    | 133/223 [01:10<00:47,  1.90it/s]Setting `pad_token_id` to `eos_token_id`:50256 for open-end generation.\nA decoder-only architecture is being used, but right-padding was detected! For correct generation results, please set `padding_side='left'` when initializing the tokenizer.\n",
          "output_type": "stream"
        },
        {
          "name": "stdout",
          "text": "Generated Summary: Great coffee and tea maker!\nOriginal Summary: Great coffee and tea maker!\n--------------------------------------------------\n",
          "output_type": "stream"
        },
        {
          "name": "stderr",
          "text": "Evaluating:  60%|██████    | 134/223 [01:11<00:47,  1.89it/s]Setting `pad_token_id` to `eos_token_id`:50256 for open-end generation.\nA decoder-only architecture is being used, but right-padding was detected! For correct generation results, please set `padding_side='left'` when initializing the tokenizer.\n",
          "output_type": "stream"
        },
        {
          "name": "stdout",
          "text": "Generated Summary: Disgusting! Waste of Money!\nOriginal Summary: Disgusting! Waste of Money!\n--------------------------------------------------\n",
          "output_type": "stream"
        },
        {
          "name": "stderr",
          "text": "Evaluating:  61%|██████    | 135/223 [01:11<00:46,  1.91it/s]Setting `pad_token_id` to `eos_token_id`:50256 for open-end generation.\nA decoder-only architecture is being used, but right-padding was detected! For correct generation results, please set `padding_side='left'` when initializing the tokenizer.\n",
          "output_type": "stream"
        },
        {
          "name": "stdout",
          "text": "Generated Summary: Shipping packaging is poor\nOriginal Summary: Shipping packaging is poor\n--------------------------------------------------\n",
          "output_type": "stream"
        },
        {
          "name": "stderr",
          "text": "Evaluating:  61%|██████    | 136/223 [01:12<00:45,  1.91it/s]Setting `pad_token_id` to `eos_token_id`:50256 for open-end generation.\nA decoder-only architecture is being used, but right-padding was detected! For correct generation results, please set `padding_side='left'` when initializing the tokenizer.\n",
          "output_type": "stream"
        },
        {
          "name": "stdout",
          "text": "Generated Summary: We love it\nOriginal Summary: We love it\n--------------------------------------------------\n",
          "output_type": "stream"
        },
        {
          "name": "stderr",
          "text": "Evaluating:  61%|██████▏   | 137/223 [01:12<00:45,  1.90it/s]Setting `pad_token_id` to `eos_token_id`:50256 for open-end generation.\nA decoder-only architecture is being used, but right-padding was detected! For correct generation results, please set `padding_side='left'` when initializing the tokenizer.\n",
          "output_type": "stream"
        },
        {
          "name": "stdout",
          "text": "Generated Summary: My favorite!!\nOriginal Summary: My favorite!!\n--------------------------------------------------\n",
          "output_type": "stream"
        },
        {
          "name": "stderr",
          "text": "Evaluating:  62%|██████▏   | 138/223 [01:13<00:44,  1.90it/s]Setting `pad_token_id` to `eos_token_id`:50256 for open-end generation.\nA decoder-only architecture is being used, but right-padding was detected! For correct generation results, please set `padding_side='left'` when initializing the tokenizer.\n",
          "output_type": "stream"
        },
        {
          "name": "stdout",
          "text": "Generated Summary: mmmmmmmm...beer...nuts!\nOriginal Summary: mmmmmmmm...beer...nuts!\n--------------------------------------------------\n",
          "output_type": "stream"
        },
        {
          "name": "stderr",
          "text": "Evaluating:  62%|██████▏   | 139/223 [01:13<00:45,  1.85it/s]Setting `pad_token_id` to `eos_token_id`:50256 for open-end generation.\nA decoder-only architecture is being used, but right-padding was detected! For correct generation results, please set `padding_side='left'` when initializing the tokenizer.\n",
          "output_type": "stream"
        },
        {
          "name": "stdout",
          "text": "Generated Summary: Fizzy Citrus\nOriginal Summary: Fizzy Citrus\n--------------------------------------------------\n",
          "output_type": "stream"
        },
        {
          "name": "stderr",
          "text": "Evaluating:  63%|██████▎   | 140/223 [01:14<00:44,  1.86it/s]Setting `pad_token_id` to `eos_token_id`:50256 for open-end generation.\nA decoder-only architecture is being used, but right-padding was detected! For correct generation results, please set `padding_side='left'` when initializing the tokenizer.\n",
          "output_type": "stream"
        },
        {
          "name": "stdout",
          "text": "Generated Summary: big train chai\nOriginal Summary: big train chai\n--------------------------------------------------\n",
          "output_type": "stream"
        },
        {
          "name": "stderr",
          "text": "Evaluating:  63%|██████▎   | 141/223 [01:14<00:43,  1.87it/s]Setting `pad_token_id` to `eos_token_id`:50256 for open-end generation.\nA decoder-only architecture is being used, but right-padding was detected! For correct generation results, please set `padding_side='left'` when initializing the tokenizer.\n",
          "output_type": "stream"
        },
        {
          "name": "stdout",
          "text": "Generated Summary: Excellent Product, Just Too Pricey For Me\nOriginal Summary: Excellent Product, Just Too Pricey For Me\n--------------------------------------------------\n",
          "output_type": "stream"
        },
        {
          "name": "stderr",
          "text": "Evaluating:  64%|██████▎   | 142/223 [01:15<00:43,  1.88it/s]Setting `pad_token_id` to `eos_token_id`:50256 for open-end generation.\nA decoder-only architecture is being used, but right-padding was detected! For correct generation results, please set `padding_side='left'` when initializing the tokenizer.\n",
          "output_type": "stream"
        },
        {
          "name": "stdout",
          "text": "Generated Summary: Nice flavor, but very weak\nOriginal Summary: Nice flavor, but very weak\n--------------------------------------------------\n",
          "output_type": "stream"
        },
        {
          "name": "stderr",
          "text": "Evaluating:  64%|██████▍   | 143/223 [01:16<00:43,  1.86it/s]Setting `pad_token_id` to `eos_token_id`:50256 for open-end generation.\nA decoder-only architecture is being used, but right-padding was detected! For correct generation results, please set `padding_side='left'` when initializing the tokenizer.\n",
          "output_type": "stream"
        },
        {
          "name": "stdout",
          "text": "Generated Summary: David Rio Flamingo Vanilla Decaf Sugar-Free Chai\nOriginal Summary: David Rio Flamingo Vanilla Decaf Sugar-Free Chai\n--------------------------------------------------\n",
          "output_type": "stream"
        },
        {
          "name": "stderr",
          "text": "Evaluating:  65%|██████▍   | 144/223 [01:16<00:42,  1.86it/s]Setting `pad_token_id` to `eos_token_id`:50256 for open-end generation.\nA decoder-only architecture is being used, but right-padding was detected! For correct generation results, please set `padding_side='left'` when initializing the tokenizer.\n",
          "output_type": "stream"
        },
        {
          "name": "stdout",
          "text": "Generated Summary: GF/ DF done right!\nOriginal Summary: GF/ DF done right!\n--------------------------------------------------\n",
          "output_type": "stream"
        },
        {
          "name": "stderr",
          "text": "Evaluating:  65%|██████▌   | 145/223 [01:17<00:42,  1.84it/s]Setting `pad_token_id` to `eos_token_id`:50256 for open-end generation.\nA decoder-only architecture is being used, but right-padding was detected! For correct generation results, please set `padding_side='left'` when initializing the tokenizer.\n",
          "output_type": "stream"
        },
        {
          "name": "stdout",
          "text": "Generated Summary: What can I say about ketchup?\nOriginal Summary: What can I say about ketchup?\n--------------------------------------------------\n",
          "output_type": "stream"
        },
        {
          "name": "stderr",
          "text": "Evaluating:  65%|██████▌   | 146/223 [01:17<00:41,  1.86it/s]Setting `pad_token_id` to `eos_token_id`:50256 for open-end generation.\nA decoder-only architecture is being used, but right-padding was detected! For correct generation results, please set `padding_side='left'` when initializing the tokenizer.\n",
          "output_type": "stream"
        },
        {
          "name": "stdout",
          "text": "Generated Summary: Delish!\nOriginal Summary: Delish!\n--------------------------------------------------\n",
          "output_type": "stream"
        },
        {
          "name": "stderr",
          "text": "Evaluating:  66%|██████▌   | 147/223 [01:18<00:41,  1.84it/s]Setting `pad_token_id` to `eos_token_id`:50256 for open-end generation.\nA decoder-only architecture is being used, but right-padding was detected! For correct generation results, please set `padding_side='left'` when initializing the tokenizer.\n",
          "output_type": "stream"
        },
        {
          "name": "stdout",
          "text": "Generated Summary: Better than captains\nOriginal Summary: Better than captains\n--------------------------------------------------\n",
          "output_type": "stream"
        },
        {
          "name": "stderr",
          "text": "Evaluating:  66%|██████▋   | 148/223 [01:18<00:40,  1.86it/s]Setting `pad_token_id` to `eos_token_id`:50256 for open-end generation.\nA decoder-only architecture is being used, but right-padding was detected! For correct generation results, please set `padding_side='left'` when initializing the tokenizer.\n",
          "output_type": "stream"
        },
        {
          "name": "stdout",
          "text": "Generated Summary: Great cereal\nOriginal Summary: Just About Perfect\n--------------------------------------------------\n",
          "output_type": "stream"
        },
        {
          "name": "stderr",
          "text": "Evaluating:  67%|██████▋   | 149/223 [01:19<00:39,  1.87it/s]Setting `pad_token_id` to `eos_token_id`:50256 for open-end generation.\nA decoder-only architecture is being used, but right-padding was detected! For correct generation results, please set `padding_side='left'` when initializing the tokenizer.\n",
          "output_type": "stream"
        },
        {
          "name": "stdout",
          "text": "Generated Summary: Great for dental health\nOriginal Summary: My picky eater likes these\n--------------------------------------------------\n",
          "output_type": "stream"
        },
        {
          "name": "stderr",
          "text": "Evaluating:  67%|██████▋   | 150/223 [01:19<00:38,  1.88it/s]Setting `pad_token_id` to `eos_token_id`:50256 for open-end generation.\nA decoder-only architecture is being used, but right-padding was detected! For correct generation results, please set `padding_side='left'` when initializing the tokenizer.\n",
          "output_type": "stream"
        },
        {
          "name": "stdout",
          "text": "Generated Summary: My dogs love these\nOriginal Summary: Crunchy, hard biscuits my dogs like\n--------------------------------------------------\n",
          "output_type": "stream"
        },
        {
          "name": "stderr",
          "text": "Evaluating:  68%|██████▊   | 151/223 [01:20<00:38,  1.89it/s]Setting `pad_token_id` to `eos_token_id`:50256 for open-end generation.\nA decoder-only architecture is being used, but right-padding was detected! For correct generation results, please set `padding_side='left'` when initializing the tokenizer.\n",
          "output_type": "stream"
        },
        {
          "name": "stdout",
          "text": "Generated Summary: Inconsistent quality\nOriginal Summary: Inconsistent quality\n--------------------------------------------------\n",
          "output_type": "stream"
        },
        {
          "name": "stderr",
          "text": "Evaluating:  68%|██████▊   | 152/223 [01:20<00:37,  1.90it/s]Setting `pad_token_id` to `eos_token_id`:50256 for open-end generation.\nA decoder-only architecture is being used, but right-padding was detected! For correct generation results, please set `padding_side='left'` when initializing the tokenizer.\n",
          "output_type": "stream"
        },
        {
          "name": "stdout",
          "text": "Generated Summary: I can't believe this is healthy food!\nOriginal Summary: I can't believe this is healthy food!\n--------------------------------------------------\n",
          "output_type": "stream"
        },
        {
          "name": "stderr",
          "text": "Evaluating:  69%|██████▊   | 153/223 [01:21<00:36,  1.91it/s]Setting `pad_token_id` to `eos_token_id`:50256 for open-end generation.\nA decoder-only architecture is being used, but right-padding was detected! For correct generation results, please set `padding_side='left'` when initializing the tokenizer.\n",
          "output_type": "stream"
        },
        {
          "name": "stdout",
          "text": "Generated Summary: Kay's Gluten Free Cereals\nOriginal Summary: Kay's Gluten Free Cereals\n--------------------------------------------------\n",
          "output_type": "stream"
        },
        {
          "name": "stderr",
          "text": "Evaluating:  69%|██████▉   | 154/223 [01:21<00:36,  1.91it/s]Setting `pad_token_id` to `eos_token_id`:50256 for open-end generation.\nA decoder-only architecture is being used, but right-padding was detected! For correct generation results, please set `padding_side='left'` when initializing the tokenizer.\n",
          "output_type": "stream"
        },
        {
          "name": "stdout",
          "text": "Generated Summary: Hard to find cereal found!\nOriginal Summary: Hard to find cereal found!\n--------------------------------------------------\n",
          "output_type": "stream"
        },
        {
          "name": "stderr",
          "text": "Evaluating:  70%|██████▉   | 155/223 [01:22<00:35,  1.91it/s]Setting `pad_token_id` to `eos_token_id`:50256 for open-end generation.\nA decoder-only architecture is being used, but right-padding was detected! For correct generation results, please set `padding_side='left'` when initializing the tokenizer.\n",
          "output_type": "stream"
        },
        {
          "name": "stdout",
          "text": "Generated Summary: Gives my Dalmatian mix a great coat\nOriginal Summary: Gives my Dalmatian mix horrible gas!\n--------------------------------------------------\n",
          "output_type": "stream"
        },
        {
          "name": "stderr",
          "text": "Evaluating:  70%|██████▉   | 156/223 [01:22<00:35,  1.91it/s]Setting `pad_token_id` to `eos_token_id`:50256 for open-end generation.\nA decoder-only architecture is being used, but right-padding was detected! For correct generation results, please set `padding_side='left'` when initializing the tokenizer.\n",
          "output_type": "stream"
        },
        {
          "name": "stdout",
          "text": "Generated Summary: consider fanatical quinoa connoisseur, enjoyed many varieties several decades. foods organic quinoa far best quinoa ever purchased. first, quinoa seeds thoroughly pre-rinsed. acrid flavor whatsoever. impurity product. 100 % quinoa. know done differently, quinoa cooks evenly quinoa. mean, seeds cook -- mushy, mushy, mushy.n't know,'s quinoa.'s like eating rice cake.'s like eating rice cake\nOriginal Summary: very clean; organic; cooks evenly\n--------------------------------------------------\n",
          "output_type": "stream"
        },
        {
          "name": "stderr",
          "text": "Evaluating:  70%|███████   | 157/223 [01:23<00:34,  1.91it/s]Setting `pad_token_id` to `eos_token_id`:50256 for open-end generation.\nA decoder-only architecture is being used, but right-padding was detected! For correct generation results, please set `padding_side='left'` when initializing the tokenizer.\n",
          "output_type": "stream"
        },
        {
          "name": "stdout",
          "text": "Generated Summary: Inferior product\nOriginal Summary: Inferior product\n--------------------------------------------------\n",
          "output_type": "stream"
        },
        {
          "name": "stderr",
          "text": "Evaluating:  71%|███████   | 158/223 [01:23<00:33,  1.92it/s]Setting `pad_token_id` to `eos_token_id`:50256 for open-end generation.\nA decoder-only architecture is being used, but right-padding was detected! For correct generation results, please set `padding_side='left'` when initializing the tokenizer.\n",
          "output_type": "stream"
        },
        {
          "name": "stdout",
          "text": "Generated Summary: numbing sensation\nOriginal Summary: numbing goodness\n--------------------------------------------------\n",
          "output_type": "stream"
        },
        {
          "name": "stderr",
          "text": "Evaluating:  71%|███████▏  | 159/223 [01:24<00:33,  1.92it/s]Setting `pad_token_id` to `eos_token_id`:50256 for open-end generation.\nA decoder-only architecture is being used, but right-padding was detected! For correct generation results, please set `padding_side='left'` when initializing the tokenizer.\n",
          "output_type": "stream"
        },
        {
          "name": "stdout",
          "text": "Generated Summary: Great biscuits\nOriginal Summary: Amazon-6, Biscuits-0\n--------------------------------------------------\n",
          "output_type": "stream"
        },
        {
          "name": "stderr",
          "text": "Evaluating:  72%|███████▏  | 160/223 [01:24<00:32,  1.93it/s]Setting `pad_token_id` to `eos_token_id`:50256 for open-end generation.\nA decoder-only architecture is being used, but right-padding was detected! For correct generation results, please set `padding_side='left'` when initializing the tokenizer.\n",
          "output_type": "stream"
        },
        {
          "name": "stdout",
          "text": "Generated Summary: I love this tea - to each her own taste buds!\nOriginal Summary: I love this tea - to each her own taste buds!\n--------------------------------------------------\n",
          "output_type": "stream"
        },
        {
          "name": "stderr",
          "text": "Evaluating:  72%|███████▏  | 161/223 [01:25<00:32,  1.93it/s]Setting `pad_token_id` to `eos_token_id`:50256 for open-end generation.\nA decoder-only architecture is being used, but right-padding was detected! For correct generation results, please set `padding_side='left'` when initializing the tokenizer.\n",
          "output_type": "stream"
        },
        {
          "name": "stdout",
          "text": "Generated Summary: way coffee expert, connoisseur, heavy user. perfectly honest, look spell connoisseur! heart attack 6 months ago, learning never use caffeine, salt, almost darn thing love. hate anything `` light '', decaf artificially sweetened. wife bought every single brand instant decaf coffee along assorted `` real '' decaf try drip coffee maker.'ve tried brands, far, far, best.'ve tried brands, far, far, far, far, far, far\nOriginal Summary: Put My Money Where My Mouth  Is...First Decaf I Can Stand\n--------------------------------------------------\n",
          "output_type": "stream"
        },
        {
          "name": "stderr",
          "text": "Evaluating:  73%|███████▎  | 162/223 [01:26<00:31,  1.92it/s]Setting `pad_token_id` to `eos_token_id`:50256 for open-end generation.\nA decoder-only architecture is being used, but right-padding was detected! For correct generation results, please set `padding_side='left'` when initializing the tokenizer.\n",
          "output_type": "stream"
        },
        {
          "name": "stdout",
          "text": "Generated Summary: Mmmmm  Mmmmm good.\nOriginal Summary: Mmmmm  Mmmmm good.\n--------------------------------------------------\n",
          "output_type": "stream"
        },
        {
          "name": "stderr",
          "text": "Evaluating:  73%|███████▎  | 163/223 [01:26<00:31,  1.91it/s]Setting `pad_token_id` to `eos_token_id`:50256 for open-end generation.\nA decoder-only architecture is being used, but right-padding was detected! For correct generation results, please set `padding_side='left'` when initializing the tokenizer.\n",
          "output_type": "stream"
        },
        {
          "name": "stdout",
          "text": "Generated Summary: Maple syrup\nOriginal Summary: Maple syrup\n--------------------------------------------------\n",
          "output_type": "stream"
        },
        {
          "name": "stderr",
          "text": "Evaluating:  74%|███████▎  | 164/223 [01:27<00:31,  1.90it/s]Setting `pad_token_id` to `eos_token_id`:50256 for open-end generation.\nA decoder-only architecture is being used, but right-padding was detected! For correct generation results, please set `padding_side='left'` when initializing the tokenizer.\n",
          "output_type": "stream"
        },
        {
          "name": "stdout",
          "text": "Generated Summary: stumbleupon users, wary. browsing stumbled upon article miracle berries- cool new fad apparently causes things taste different normally would. naturally, tried see could get hands some.once found mberry miracle fruit tablets, research. always look lot reviews alternatives buying anything amazon. price relatively cheap, figured, worked advertised. aggressive claims product's page, read reviews. first,'s true. miracle fruit tablets contain sugar, artificial flavors, preservatives, preservatives, preservatives, preservatives\nOriginal Summary: Nothing Miraculous Here\n--------------------------------------------------\n",
          "output_type": "stream"
        },
        {
          "name": "stderr",
          "text": "Evaluating:  74%|███████▍  | 165/223 [01:27<00:30,  1.90it/s]Setting `pad_token_id` to `eos_token_id`:50256 for open-end generation.\nA decoder-only architecture is being used, but right-padding was detected! For correct generation results, please set `padding_side='left'` when initializing the tokenizer.\n",
          "output_type": "stream"
        },
        {
          "name": "stdout",
          "text": "Generated Summary: Best Iced K-Cup I've Had!\nOriginal Summary: Best Iced K-Cup I've Had!\n--------------------------------------------------\n",
          "output_type": "stream"
        },
        {
          "name": "stderr",
          "text": "Evaluating:  74%|███████▍  | 166/223 [01:28<00:29,  1.91it/s]Setting `pad_token_id` to `eos_token_id`:50256 for open-end generation.\nA decoder-only architecture is being used, but right-padding was detected! For correct generation results, please set `padding_side='left'` when initializing the tokenizer.\n",
          "output_type": "stream"
        },
        {
          "name": "stdout",
          "text": "Generated Summary: fed canidae als ( old formula ) 7+ years dogs thrived. canidae switched formula ( mfg ) immediately switched another food afer reported problems. feed store talked trying 'new'formula, went back als - big mistake. experienced 15-20+ % weight loss, explosive diarreha, vomitting, lethargy, diarrhea, vomiting, diarrhea, vomiting, diarrhea, vomiting, diarrhea, vomiting, diarrhea, vomiting, diarrhea, vomiting, diarrhea, vomiting, diarrhea\nOriginal Summary: Terrible and Dangerous to Feed\n--------------------------------------------------\n",
          "output_type": "stream"
        },
        {
          "name": "stderr",
          "text": "Evaluating:  75%|███████▍  | 167/223 [01:28<00:29,  1.91it/s]Setting `pad_token_id` to `eos_token_id`:50256 for open-end generation.\nA decoder-only architecture is being used, but right-padding was detected! For correct generation results, please set `padding_side='left'` when initializing the tokenizer.\n",
          "output_type": "stream"
        },
        {
          "name": "stdout",
          "text": "Generated Summary: Dum Dums for all!!\nOriginal Summary: Dum Dums for all!!\n--------------------------------------------------\n",
          "output_type": "stream"
        },
        {
          "name": "stderr",
          "text": "Evaluating:  75%|███████▌  | 168/223 [01:29<00:29,  1.88it/s]Setting `pad_token_id` to `eos_token_id`:50256 for open-end generation.\nA decoder-only architecture is being used, but right-padding was detected! For correct generation results, please set `padding_side='left'` when initializing the tokenizer.\n",
          "output_type": "stream"
        },
        {
          "name": "stdout",
          "text": "Generated Summary: accidentally bought large tug-a-jug little 12 lb maltese/jack russell mix dog. although intimidated puppy, since come love toy begs able play. ( wouldn't suggest small dog owners getting large toy small dogs though. works izzy, parents toy poodle won't much sniff. ) durability : main concern buying toys.'s durable,'s easy break,'s easy clean,'s durable,'s durable,'s durable,'s durable\nOriginal Summary: Challenging and Durable\n--------------------------------------------------\n",
          "output_type": "stream"
        },
        {
          "name": "stderr",
          "text": "Evaluating:  76%|███████▌  | 169/223 [01:29<00:28,  1.88it/s]Setting `pad_token_id` to `eos_token_id`:50256 for open-end generation.\nA decoder-only architecture is being used, but right-padding was detected! For correct generation results, please set `padding_side='left'` when initializing the tokenizer.\n",
          "output_type": "stream"
        },
        {
          "name": "stdout",
          "text": "Generated Summary: Beware\nOriginal Summary: Beware\n--------------------------------------------------\n",
          "output_type": "stream"
        },
        {
          "name": "stderr",
          "text": "Evaluating:  76%|███████▌  | 170/223 [01:30<00:28,  1.88it/s]Setting `pad_token_id` to `eos_token_id`:50256 for open-end generation.\nA decoder-only architecture is being used, but right-padding was detected! For correct generation results, please set `padding_side='left'` when initializing the tokenizer.\n",
          "output_type": "stream"
        },
        {
          "name": "stdout",
          "text": "Generated Summary: My dogs love Greenies!\nOriginal Summary: Dogs love Greenies\n--------------------------------------------------\n",
          "output_type": "stream"
        },
        {
          "name": "stderr",
          "text": "Evaluating:  77%|███████▋  | 171/223 [01:30<00:27,  1.88it/s]Setting `pad_token_id` to `eos_token_id`:50256 for open-end generation.\nA decoder-only architecture is being used, but right-padding was detected! For correct generation results, please set `padding_side='left'` when initializing the tokenizer.\n",
          "output_type": "stream"
        },
        {
          "name": "stdout",
          "text": "Generated Summary: Great for slumps\nOriginal Summary: Best Pre-Gym Smoothie Ingredient Ever\n--------------------------------------------------\n",
          "output_type": "stream"
        },
        {
          "name": "stderr",
          "text": "Evaluating:  77%|███████▋  | 172/223 [01:31<00:26,  1.89it/s]Setting `pad_token_id` to `eos_token_id`:50256 for open-end generation.\nA decoder-only architecture is being used, but right-padding was detected! For correct generation results, please set `padding_side='left'` when initializing the tokenizer.\n",
          "output_type": "stream"
        },
        {
          "name": "stdout",
          "text": "Generated Summary: huge difference flavor texture versus plain supermarket brands. yes, costs little still less pre-prepared rice mixes. try `` mexican '' recipe.2 cups rice, 1 tbs olive oil, brown rice skillet2 cups water, 1 tomato, 1/2 onion, 1 clove garlic, 1 tbs chicken bullion, tps salt, 1/2 tsp cayenne pepper, 1/2 tsp cayenne pepper, 1/2 tsp cayenne pepper, 1/\nOriginal Summary: You'll never go back to white rice\n--------------------------------------------------\n",
          "output_type": "stream"
        },
        {
          "name": "stderr",
          "text": "Evaluating:  78%|███████▊  | 173/223 [01:31<00:26,  1.90it/s]Setting `pad_token_id` to `eos_token_id`:50256 for open-end generation.\nA decoder-only architecture is being used, but right-padding was detected! For correct generation results, please set `padding_side='left'` when initializing the tokenizer.\n",
          "output_type": "stream"
        },
        {
          "name": "stdout",
          "text": "Generated Summary: My favorite Jelly Belly flavor\nOriginal Summary: My favorite Jelly Belly flavor\n--------------------------------------------------\n",
          "output_type": "stream"
        },
        {
          "name": "stderr",
          "text": "Evaluating:  78%|███████▊  | 174/223 [01:32<00:25,  1.90it/s]Setting `pad_token_id` to `eos_token_id`:50256 for open-end generation.\nA decoder-only architecture is being used, but right-padding was detected! For correct generation results, please set `padding_side='left'` when initializing the tokenizer.\n",
          "output_type": "stream"
        },
        {
          "name": "stdout",
          "text": "Generated Summary: Just coffee\nOriginal Summary: Just coffee\n--------------------------------------------------\n",
          "output_type": "stream"
        },
        {
          "name": "stderr",
          "text": "Evaluating:  78%|███████▊  | 175/223 [01:32<00:25,  1.90it/s]Setting `pad_token_id` to `eos_token_id`:50256 for open-end generation.\nA decoder-only architecture is being used, but right-padding was detected! For correct generation results, please set `padding_side='left'` when initializing the tokenizer.\n",
          "output_type": "stream"
        },
        {
          "name": "stdout",
          "text": "Generated Summary: Good size, but not for my dog\nOriginal Summary: My dog likes this treat\n--------------------------------------------------\n",
          "output_type": "stream"
        },
        {
          "name": "stderr",
          "text": "Evaluating:  79%|███████▉  | 176/223 [01:33<00:24,  1.90it/s]Setting `pad_token_id` to `eos_token_id`:50256 for open-end generation.\nA decoder-only architecture is being used, but right-padding was detected! For correct generation results, please set `padding_side='left'` when initializing the tokenizer.\n",
          "output_type": "stream"
        },
        {
          "name": "stdout",
          "text": "Generated Summary: my cats wouldn't eat it...\nOriginal Summary: my cats wouldn't eat it...\n--------------------------------------------------\n",
          "output_type": "stream"
        },
        {
          "name": "stderr",
          "text": "Evaluating:  79%|███████▉  | 177/223 [01:33<00:24,  1.90it/s]Setting `pad_token_id` to `eos_token_id`:50256 for open-end generation.\nA decoder-only architecture is being used, but right-padding was detected! For correct generation results, please set `padding_side='left'` when initializing the tokenizer.\n",
          "output_type": "stream"
        },
        {
          "name": "stdout",
          "text": "Generated Summary: Delicious!\nOriginal Summary: Delicious Dessert Replacement for Dieters\n--------------------------------------------------\n",
          "output_type": "stream"
        },
        {
          "name": "stderr",
          "text": "Evaluating:  80%|███████▉  | 178/223 [01:34<00:23,  1.90it/s]Setting `pad_token_id` to `eos_token_id`:50256 for open-end generation.\nA decoder-only architecture is being used, but right-padding was detected! For correct generation results, please set `padding_side='left'` when initializing the tokenizer.\n",
          "output_type": "stream"
        },
        {
          "name": "stdout",
          "text": "Generated Summary: Peppermint Tea is the Best\nOriginal Summary: Peppermint Tea is the Best\n--------------------------------------------------\n",
          "output_type": "stream"
        },
        {
          "name": "stderr",
          "text": "Evaluating:  80%|████████  | 179/223 [01:35<00:23,  1.91it/s]Setting `pad_token_id` to `eos_token_id`:50256 for open-end generation.\nA decoder-only architecture is being used, but right-padding was detected! For correct generation results, please set `padding_side='left'` when initializing the tokenizer.\n",
          "output_type": "stream"
        },
        {
          "name": "stdout",
          "text": "Generated Summary: Oh so bitter tasting......\nOriginal Summary: Oh so bitter tasting......\n--------------------------------------------------\n",
          "output_type": "stream"
        },
        {
          "name": "stderr",
          "text": "Evaluating:  81%|████████  | 180/223 [01:35<00:22,  1.91it/s]Setting `pad_token_id` to `eos_token_id`:50256 for open-end generation.\nA decoder-only architecture is being used, but right-padding was detected! For correct generation results, please set `padding_side='left'` when initializing the tokenizer.\n",
          "output_type": "stream"
        },
        {
          "name": "stdout",
          "text": "Generated Summary: Pricey but nice selection of salts\nOriginal Summary: Pricey but nice selection of salts\n--------------------------------------------------\n",
          "output_type": "stream"
        },
        {
          "name": "stderr",
          "text": "Evaluating:  81%|████████  | 181/223 [01:36<00:22,  1.86it/s]Setting `pad_token_id` to `eos_token_id`:50256 for open-end generation.\nA decoder-only architecture is being used, but right-padding was detected! For correct generation results, please set `padding_side='left'` when initializing the tokenizer.\n",
          "output_type": "stream"
        },
        {
          "name": "stdout",
          "text": "Generated Summary: Annie Chun\nOriginal Summary: Annie Chun\n--------------------------------------------------\n",
          "output_type": "stream"
        },
        {
          "name": "stderr",
          "text": "Evaluating:  82%|████████▏ | 182/223 [01:36<00:21,  1.88it/s]Setting `pad_token_id` to `eos_token_id`:50256 for open-end generation.\nA decoder-only architecture is being used, but right-padding was detected! For correct generation results, please set `padding_side='left'` when initializing the tokenizer.\n",
          "output_type": "stream"
        },
        {
          "name": "stdout",
          "text": "Generated Summary: REAL licorice\nOriginal Summary: REAL licorice\n--------------------------------------------------\n",
          "output_type": "stream"
        },
        {
          "name": "stderr",
          "text": "Evaluating:  82%|████████▏ | 183/223 [01:37<00:21,  1.89it/s]Setting `pad_token_id` to `eos_token_id`:50256 for open-end generation.\nA decoder-only architecture is being used, but right-padding was detected! For correct generation results, please set `padding_side='left'` when initializing the tokenizer.\n",
          "output_type": "stream"
        },
        {
          "name": "stdout",
          "text": "Generated Summary: My dog loves them!\nOriginal Summary: My dog loves them!\n--------------------------------------------------\n",
          "output_type": "stream"
        },
        {
          "name": "stderr",
          "text": "Evaluating:  83%|████████▎ | 184/223 [01:37<00:20,  1.89it/s]Setting `pad_token_id` to `eos_token_id`:50256 for open-end generation.\nA decoder-only architecture is being used, but right-padding was detected! For correct generation results, please set `padding_side='left'` when initializing the tokenizer.\n",
          "output_type": "stream"
        },
        {
          "name": "stdout",
          "text": "Generated Summary: Great gag gift\nOriginal Summary: Great gag gift\n--------------------------------------------------\n",
          "output_type": "stream"
        },
        {
          "name": "stderr",
          "text": "Evaluating:  83%|████████▎ | 185/223 [01:38<00:20,  1.88it/s]Setting `pad_token_id` to `eos_token_id`:50256 for open-end generation.\nA decoder-only architecture is being used, but right-padding was detected! For correct generation results, please set `padding_side='left'` when initializing the tokenizer.\n",
          "output_type": "stream"
        },
        {
          "name": "stdout",
          "text": "Generated Summary: Not as good as canned cat food\nOriginal Summary: Smells and looks like cat food\n--------------------------------------------------\n",
          "output_type": "stream"
        },
        {
          "name": "stderr",
          "text": "Evaluating:  83%|████████▎ | 186/223 [01:38<00:19,  1.89it/s]Setting `pad_token_id` to `eos_token_id`:50256 for open-end generation.\nA decoder-only architecture is being used, but right-padding was detected! For correct generation results, please set `padding_side='left'` when initializing the tokenizer.\n",
          "output_type": "stream"
        },
        {
          "name": "stdout",
          "text": "Generated Summary: Great Taste and Reasonably Priced\nOriginal Summary: Great Taste and Reasonably Priced\n--------------------------------------------------\n",
          "output_type": "stream"
        },
        {
          "name": "stderr",
          "text": "Evaluating:  84%|████████▍ | 187/223 [01:39<00:19,  1.89it/s]Setting `pad_token_id` to `eos_token_id`:50256 for open-end generation.\nA decoder-only architecture is being used, but right-padding was detected! For correct generation results, please set `padding_side='left'` when initializing the tokenizer.\n",
          "output_type": "stream"
        },
        {
          "name": "stdout",
          "text": "Generated Summary: From the School Cafe\nOriginal Summary: From the School Cafe\n--------------------------------------------------\n",
          "output_type": "stream"
        },
        {
          "name": "stderr",
          "text": "Evaluating:  84%|████████▍ | 188/223 [01:39<00:18,  1.88it/s]Setting `pad_token_id` to `eos_token_id`:50256 for open-end generation.\nA decoder-only architecture is being used, but right-padding was detected! For correct generation results, please set `padding_side='left'` when initializing the tokenizer.\n",
          "output_type": "stream"
        },
        {
          "name": "stdout",
          "text": "Generated Summary: great tea\nOriginal Summary: great tea\n--------------------------------------------------\n",
          "output_type": "stream"
        },
        {
          "name": "stderr",
          "text": "Evaluating:  85%|████████▍ | 189/223 [01:40<00:18,  1.89it/s]Setting `pad_token_id` to `eos_token_id`:50256 for open-end generation.\nA decoder-only architecture is being used, but right-padding was detected! For correct generation results, please set `padding_side='left'` when initializing the tokenizer.\n",
          "output_type": "stream"
        },
        {
          "name": "stdout",
          "text": "Generated Summary: Ummmm - My personal favorite\nOriginal Summary: Ummmm - My personal favorite\n--------------------------------------------------\n",
          "output_type": "stream"
        },
        {
          "name": "stderr",
          "text": "Evaluating:  85%|████████▌ | 190/223 [01:40<00:17,  1.89it/s]Setting `pad_token_id` to `eos_token_id`:50256 for open-end generation.\nA decoder-only architecture is being used, but right-padding was detected! For correct generation results, please set `padding_side='left'` when initializing the tokenizer.\n",
          "output_type": "stream"
        },
        {
          "name": "stdout",
          "text": "Generated Summary: bought tablets try lunch work. four us tried one tablet, tasted various foods, noticed difference. point, gave, two intrepid friends went try four tablets. reported strange flavors foods tried, many items remained unaffected. among fruit punch powerade reported taste sweet repulsive ( like drinking pure sugar ), cashew apparently tasted like heaven. affected taste, would recommend trying one tablet, one tablet, one tablet, one tablet, one tablet, one tablet, one tablet, one tablet, one\nOriginal Summary: Works - Sort of\n--------------------------------------------------\n",
          "output_type": "stream"
        },
        {
          "name": "stderr",
          "text": "Evaluating:  86%|████████▌ | 191/223 [01:41<00:16,  1.89it/s]Setting `pad_token_id` to `eos_token_id`:50256 for open-end generation.\nA decoder-only architecture is being used, but right-padding was detected! For correct generation results, please set `padding_side='left'` when initializing the tokenizer.\n",
          "output_type": "stream"
        },
        {
          "name": "stdout",
          "text": "Generated Summary: My dog loves this!\nOriginal Summary: Careful with this!\n--------------------------------------------------\n",
          "output_type": "stream"
        },
        {
          "name": "stderr",
          "text": "Evaluating:  86%|████████▌ | 192/223 [01:41<00:16,  1.91it/s]Setting `pad_token_id` to `eos_token_id`:50256 for open-end generation.\nA decoder-only architecture is being used, but right-padding was detected! For correct generation results, please set `padding_side='left'` when initializing the tokenizer.\n",
          "output_type": "stream"
        },
        {
          "name": "stdout",
          "text": "Generated Summary: It has MSG\nOriginal Summary: It has MSG\n--------------------------------------------------\n",
          "output_type": "stream"
        },
        {
          "name": "stderr",
          "text": "Evaluating:  87%|████████▋ | 193/223 [01:42<00:15,  1.98it/s]Setting `pad_token_id` to `eos_token_id`:50256 for open-end generation.\nA decoder-only architecture is being used, but right-padding was detected! For correct generation results, please set `padding_side='left'` when initializing the tokenizer.\n",
          "output_type": "stream"
        },
        {
          "name": "stdout",
          "text": "Generated Summary: very popular at my house\nOriginal Summary: very popular at my house\n--------------------------------------------------\n",
          "output_type": "stream"
        },
        {
          "name": "stderr",
          "text": "Evaluating:  87%|████████▋ | 194/223 [01:42<00:14,  1.95it/s]Setting `pad_token_id` to `eos_token_id`:50256 for open-end generation.\nA decoder-only architecture is being used, but right-padding was detected! For correct generation results, please set `padding_side='left'` when initializing the tokenizer.\n",
          "output_type": "stream"
        },
        {
          "name": "stdout",
          "text": "Generated Summary: French's Chili-o Mix\nOriginal Summary: French's Chili-o Mix\n--------------------------------------------------\n",
          "output_type": "stream"
        },
        {
          "name": "stderr",
          "text": "Evaluating:  87%|████████▋ | 195/223 [01:43<00:14,  1.95it/s]Setting `pad_token_id` to `eos_token_id`:50256 for open-end generation.\nA decoder-only architecture is being used, but right-padding was detected! For correct generation results, please set `padding_side='left'` when initializing the tokenizer.\n",
          "output_type": "stream"
        },
        {
          "name": "stdout",
          "text": "Generated Summary: best tea partner\nOriginal Summary: best tea partner\n--------------------------------------------------\n",
          "output_type": "stream"
        },
        {
          "name": "stderr",
          "text": "Evaluating:  88%|████████▊ | 196/223 [01:43<00:13,  1.94it/s]Setting `pad_token_id` to `eos_token_id`:50256 for open-end generation.\nA decoder-only architecture is being used, but right-padding was detected! For correct generation results, please set `padding_side='left'` when initializing the tokenizer.\n",
          "output_type": "stream"
        },
        {
          "name": "stdout",
          "text": "Generated Summary: I tried cheaper tea BUT\nOriginal Summary: I tried cheaper tea BUT\n--------------------------------------------------\n",
          "output_type": "stream"
        },
        {
          "name": "stderr",
          "text": "Evaluating:  88%|████████▊ | 197/223 [01:44<00:13,  1.93it/s]Setting `pad_token_id` to `eos_token_id`:50256 for open-end generation.\nA decoder-only architecture is being used, but right-padding was detected! For correct generation results, please set `padding_side='left'` when initializing the tokenizer.\n",
          "output_type": "stream"
        },
        {
          "name": "stdout",
          "text": "Generated Summary: Excellent Bread for use as Buns or Sandwich bread\nOriginal Summary: Excellent Bread for use as Buns or Sandwich bread\n--------------------------------------------------\n",
          "output_type": "stream"
        },
        {
          "name": "stderr",
          "text": "Evaluating:  89%|████████▉ | 198/223 [01:44<00:13,  1.89it/s]Setting `pad_token_id` to `eos_token_id`:50256 for open-end generation.\nA decoder-only architecture is being used, but right-padding was detected! For correct generation results, please set `padding_side='left'` when initializing the tokenizer.\n",
          "output_type": "stream"
        },
        {
          "name": "stdout",
          "text": "Generated Summary: Packaging problems\nOriginal Summary: Packaging problems\n--------------------------------------------------\n",
          "output_type": "stream"
        },
        {
          "name": "stderr",
          "text": "Evaluating:  89%|████████▉ | 199/223 [01:45<00:12,  1.87it/s]Setting `pad_token_id` to `eos_token_id`:50256 for open-end generation.\nA decoder-only architecture is being used, but right-padding was detected! For correct generation results, please set `padding_side='left'` when initializing the tokenizer.\n",
          "output_type": "stream"
        },
        {
          "name": "stdout",
          "text": "Generated Summary: 've tried many different low-carb pastas last 14 years. tasted like cardboard,n't smell like pasta disintegrated grainy, pasty substance even slightly overcooked ( texture ever pasta-like begin ). ordered carba-nada, really hoped `` edible '' whatever funky grassy cardboard-like flavors might could masked bold sauce. first, tasted like cardboard,n't smell like pasta. second, tasted like cardboard,n't smell like pasta. third, tasted like cardboard, n\nOriginal Summary: Best reduced carb pasta I've ever tried\n--------------------------------------------------\n",
          "output_type": "stream"
        },
        {
          "name": "stderr",
          "text": "Evaluating:  90%|████████▉ | 200/223 [01:46<00:12,  1.84it/s]Setting `pad_token_id` to `eos_token_id`:50256 for open-end generation.\nA decoder-only architecture is being used, but right-padding was detected! For correct generation results, please set `padding_side='left'` when initializing the tokenizer.\n",
          "output_type": "stream"
        },
        {
          "name": "stdout",
          "text": "Generated Summary: Perfect Match to Twinings Tea Bags\nOriginal Summary: Perfect Match to Twinings Tea Bags\n--------------------------------------------------\n",
          "output_type": "stream"
        },
        {
          "name": "stderr",
          "text": "Evaluating:  90%|█████████ | 201/223 [01:46<00:11,  1.86it/s]Setting `pad_token_id` to `eos_token_id`:50256 for open-end generation.\nA decoder-only architecture is being used, but right-padding was detected! For correct generation results, please set `padding_side='left'` when initializing the tokenizer.\n",
          "output_type": "stream"
        },
        {
          "name": "stdout",
          "text": "Generated Summary: A Favorite\nOriginal Summary: A Favorite\n--------------------------------------------------\n",
          "output_type": "stream"
        },
        {
          "name": "stderr",
          "text": "Evaluating:  91%|█████████ | 202/223 [01:47<00:11,  1.88it/s]Setting `pad_token_id` to `eos_token_id`:50256 for open-end generation.\nA decoder-only architecture is being used, but right-padding was detected! For correct generation results, please set `padding_side='left'` when initializing the tokenizer.\n",
          "output_type": "stream"
        },
        {
          "name": "stdout",
          "text": "Generated Summary: Tasty, and perfect sized.\nOriginal Summary: Tasty, and perfect sized.\n--------------------------------------------------\n",
          "output_type": "stream"
        },
        {
          "name": "stderr",
          "text": "Evaluating:  91%|█████████ | 203/223 [01:47<00:10,  1.87it/s]Setting `pad_token_id` to `eos_token_id`:50256 for open-end generation.\nA decoder-only architecture is being used, but right-padding was detected! For correct generation results, please set `padding_side='left'` when initializing the tokenizer.\n",
          "output_type": "stream"
        },
        {
          "name": "stdout",
          "text": "Generated Summary: So much fun!\nOriginal Summary: So much fun!\n--------------------------------------------------\n",
          "output_type": "stream"
        },
        {
          "name": "stderr",
          "text": "Evaluating:  91%|█████████▏| 204/223 [01:48<00:10,  1.85it/s]Setting `pad_token_id` to `eos_token_id`:50256 for open-end generation.\nA decoder-only architecture is being used, but right-padding was detected! For correct generation results, please set `padding_side='left'` when initializing the tokenizer.\n",
          "output_type": "stream"
        },
        {
          "name": "stdout",
          "text": "Generated Summary: Sole reason I purchased a $200.00+ coffee maker\nOriginal Summary: Sole reason I purchased a $200.00+ coffee maker\n--------------------------------------------------\n",
          "output_type": "stream"
        },
        {
          "name": "stderr",
          "text": "Evaluating:  92%|█████████▏| 205/223 [01:48<00:09,  1.87it/s]Setting `pad_token_id` to `eos_token_id`:50256 for open-end generation.\nA decoder-only architecture is being used, but right-padding was detected! For correct generation results, please set `padding_side='left'` when initializing the tokenizer.\n",
          "output_type": "stream"
        },
        {
          "name": "stdout",
          "text": "Generated Summary: My 3 Girls Love These Cookies\nOriginal Summary: My 3 Girls Love These Cookies\n--------------------------------------------------\n",
          "output_type": "stream"
        },
        {
          "name": "stderr",
          "text": "Evaluating:  92%|█████████▏| 206/223 [01:49<00:09,  1.88it/s]Setting `pad_token_id` to `eos_token_id`:50256 for open-end generation.\nA decoder-only architecture is being used, but right-padding was detected! For correct generation results, please set `padding_side='left'` when initializing the tokenizer.\n",
          "output_type": "stream"
        },
        {
          "name": "stdout",
          "text": "Generated Summary: Blackberry honey\nOriginal Summary: Blackberry honey\n--------------------------------------------------\n",
          "output_type": "stream"
        },
        {
          "name": "stderr",
          "text": "Evaluating:  93%|█████████▎| 207/223 [01:49<00:08,  1.89it/s]Setting `pad_token_id` to `eos_token_id`:50256 for open-end generation.\nA decoder-only architecture is being used, but right-padding was detected! For correct generation results, please set `padding_side='left'` when initializing the tokenizer.\n",
          "output_type": "stream"
        },
        {
          "name": "stdout",
          "text": "Generated Summary: JACK LINK'S BEEF STICK,HOT & SPICY WOW!!!!!!!\nOriginal Summary: JACK LINK'S BEEF STICK,HOT & SPICY WOW!!!!!!!\n--------------------------------------------------\n",
          "output_type": "stream"
        },
        {
          "name": "stderr",
          "text": "Evaluating:  93%|█████████▎| 208/223 [01:50<00:07,  1.90it/s]Setting `pad_token_id` to `eos_token_id`:50256 for open-end generation.\nA decoder-only architecture is being used, but right-padding was detected! For correct generation results, please set `padding_side='left'` when initializing the tokenizer.\n",
          "output_type": "stream"
        },
        {
          "name": "stdout",
          "text": "Generated Summary: My little boy loves these!\nOriginal Summary: Great for picky toddlers!!!\n--------------------------------------------------\n",
          "output_type": "stream"
        },
        {
          "name": "stderr",
          "text": "Evaluating:  94%|█████████▎| 209/223 [01:50<00:07,  1.91it/s]Setting `pad_token_id` to `eos_token_id`:50256 for open-end generation.\nA decoder-only architecture is being used, but right-padding was detected! For correct generation results, please set `padding_side='left'` when initializing the tokenizer.\n",
          "output_type": "stream"
        },
        {
          "name": "stdout",
          "text": "Generated Summary: My dog loves these!\nOriginal Summary: My dog loves this food!\n--------------------------------------------------\n",
          "output_type": "stream"
        },
        {
          "name": "stderr",
          "text": "Evaluating:  94%|█████████▍| 210/223 [01:51<00:06,  1.90it/s]Setting `pad_token_id` to `eos_token_id`:50256 for open-end generation.\nA decoder-only architecture is being used, but right-padding was detected! For correct generation results, please set `padding_side='left'` when initializing the tokenizer.\n",
          "output_type": "stream"
        },
        {
          "name": "stdout",
          "text": "Generated Summary: Best Coconut Milk\nOriginal Summary: Delicious\n--------------------------------------------------\n",
          "output_type": "stream"
        },
        {
          "name": "stderr",
          "text": "Evaluating:  95%|█████████▍| 211/223 [01:51<00:06,  1.90it/s]Setting `pad_token_id` to `eos_token_id`:50256 for open-end generation.\nA decoder-only architecture is being used, but right-padding was detected! For correct generation results, please set `padding_side='left'` when initializing the tokenizer.\n",
          "output_type": "stream"
        },
        {
          "name": "stdout",
          "text": "Generated Summary: Decaf Option.. Mild Flavor\nOriginal Summary: Decaf Option.. Mild Flavor\n--------------------------------------------------\n",
          "output_type": "stream"
        },
        {
          "name": "stderr",
          "text": "Evaluating:  95%|█████████▌| 212/223 [01:52<00:05,  1.90it/s]Setting `pad_token_id` to `eos_token_id`:50256 for open-end generation.\nA decoder-only architecture is being used, but right-padding was detected! For correct generation results, please set `padding_side='left'` when initializing the tokenizer.\n",
          "output_type": "stream"
        },
        {
          "name": "stdout",
          "text": "Generated Summary: It looks like an egg...It acts like an egg!!\nOriginal Summary: It looks like an egg...It acts like an egg!!\n--------------------------------------------------\n",
          "output_type": "stream"
        },
        {
          "name": "stderr",
          "text": "Evaluating:  96%|█████████▌| 213/223 [01:52<00:05,  1.90it/s]Setting `pad_token_id` to `eos_token_id`:50256 for open-end generation.\nA decoder-only architecture is being used, but right-padding was detected! For correct generation results, please set `padding_side='left'` when initializing the tokenizer.\n",
          "output_type": "stream"
        },
        {
          "name": "stdout",
          "text": "Generated Summary: Great gift\nOriginal Summary: how many days for priority shipping?????????\n--------------------------------------------------\n",
          "output_type": "stream"
        },
        {
          "name": "stderr",
          "text": "Evaluating:  96%|█████████▌| 214/223 [01:53<00:04,  1.92it/s]Setting `pad_token_id` to `eos_token_id`:50256 for open-end generation.\nA decoder-only architecture is being used, but right-padding was detected! For correct generation results, please set `padding_side='left'` when initializing the tokenizer.\n",
          "output_type": "stream"
        },
        {
          "name": "stdout",
          "text": "Generated Summary: Stale walnuts!\nOriginal Summary: Stale walnuts!\n--------------------------------------------------\n",
          "output_type": "stream"
        },
        {
          "name": "stderr",
          "text": "Evaluating:  96%|█████████▋| 215/223 [01:53<00:04,  1.93it/s]Setting `pad_token_id` to `eos_token_id`:50256 for open-end generation.\nA decoder-only architecture is being used, but right-padding was detected! For correct generation results, please set `padding_side='left'` when initializing the tokenizer.\n",
          "output_type": "stream"
        },
        {
          "name": "stdout",
          "text": "Generated Summary: great product, great price, pepermint is outstanding\nOriginal Summary: great product, great price, pepermint is outstanding\n--------------------------------------------------\n",
          "output_type": "stream"
        },
        {
          "name": "stderr",
          "text": "Evaluating:  97%|█████████▋| 216/223 [01:54<00:03,  1.93it/s]Setting `pad_token_id` to `eos_token_id`:50256 for open-end generation.\nA decoder-only architecture is being used, but right-padding was detected! For correct generation results, please set `padding_side='left'` when initializing the tokenizer.\n",
          "output_type": "stream"
        },
        {
          "name": "stdout",
          "text": "Generated Summary: Good popcorn\nOriginal Summary: Popcorn was alright\n--------------------------------------------------\n",
          "output_type": "stream"
        },
        {
          "name": "stderr",
          "text": "Evaluating:  97%|█████████▋| 217/223 [01:55<00:03,  1.92it/s]Setting `pad_token_id` to `eos_token_id`:50256 for open-end generation.\nA decoder-only architecture is being used, but right-padding was detected! For correct generation results, please set `padding_side='left'` when initializing the tokenizer.\n",
          "output_type": "stream"
        },
        {
          "name": "stdout",
          "text": "Generated Summary: The picky boys' favorate\nOriginal Summary: The picky boys' favorate\n--------------------------------------------------\n",
          "output_type": "stream"
        },
        {
          "name": "stderr",
          "text": "Evaluating:  98%|█████████▊| 218/223 [01:55<00:02,  1.91it/s]Setting `pad_token_id` to `eos_token_id`:50256 for open-end generation.\nA decoder-only architecture is being used, but right-padding was detected! For correct generation results, please set `padding_side='left'` when initializing the tokenizer.\n",
          "output_type": "stream"
        },
        {
          "name": "stdout",
          "text": "Generated Summary: Great for the garden\nOriginal Summary: Raw Organics going back to Paradise\n--------------------------------------------------\n",
          "output_type": "stream"
        },
        {
          "name": "stderr",
          "text": "Evaluating:  98%|█████████▊| 219/223 [01:56<00:02,  1.88it/s]Setting `pad_token_id` to `eos_token_id`:50256 for open-end generation.\nA decoder-only architecture is being used, but right-padding was detected! For correct generation results, please set `padding_side='left'` when initializing the tokenizer.\n",
          "output_type": "stream"
        },
        {
          "name": "stdout",
          "text": "Generated Summary: Great product\nOriginal Summary: Great product\n--------------------------------------------------\n",
          "output_type": "stream"
        },
        {
          "name": "stderr",
          "text": "Evaluating:  99%|█████████▊| 220/223 [01:56<00:01,  1.89it/s]Setting `pad_token_id` to `eos_token_id`:50256 for open-end generation.\nA decoder-only architecture is being used, but right-padding was detected! For correct generation results, please set `padding_side='left'` when initializing the tokenizer.\n",
          "output_type": "stream"
        },
        {
          "name": "stdout",
          "text": "Generated Summary: Too Sweet - Too Tasty\nOriginal Summary: Too Sweet - Too Late\n--------------------------------------------------\n",
          "output_type": "stream"
        },
        {
          "name": "stderr",
          "text": "Evaluating:  99%|█████████▉| 221/223 [01:57<00:01,  1.89it/s]Setting `pad_token_id` to `eos_token_id`:50256 for open-end generation.\nA decoder-only architecture is being used, but right-padding was detected! For correct generation results, please set `padding_side='left'` when initializing the tokenizer.\n",
          "output_type": "stream"
        },
        {
          "name": "stdout",
          "text": "Generated Summary: Sweet & addictive!\nOriginal Summary: Sweet & addictive!\n--------------------------------------------------\n",
          "output_type": "stream"
        },
        {
          "name": "stderr",
          "text": "Evaluating: 100%|█████████▉| 222/223 [01:57<00:00,  1.90it/s]Setting `pad_token_id` to `eos_token_id`:50256 for open-end generation.\nA decoder-only architecture is being used, but right-padding was detected! For correct generation results, please set `padding_side='left'` when initializing the tokenizer.\n",
          "output_type": "stream"
        },
        {
          "name": "stdout",
          "text": "Generated Summary: Best instant noodle cup\nOriginal Summary: Best instant noodle cup\n--------------------------------------------------\n",
          "output_type": "stream"
        },
        {
          "name": "stderr",
          "text": "Evaluating: 100%|██████████| 223/223 [01:59<00:00,  1.87it/s]",
          "output_type": "stream"
        },
        {
          "name": "stdout",
          "text": "Generated Summary: The best you can buy\nOriginal Summary: The best you can buy\n--------------------------------------------------\n",
          "output_type": "stream"
        },
        {
          "name": "stderr",
          "text": "\n",
          "output_type": "stream"
        },
        {
          "name": "stdout",
          "text": "ROUGE Scores:\n{'rouge1': AggregateScore(low=Score(precision=0.668313244539601, recall=0.6832897318799785, fmeasure=0.6626339957311078), mid=Score(precision=0.7261499587187237, recall=0.7391533852296184, fmeasure=0.7205977065724865), high=Score(precision=0.7788988955336325, recall=0.7922795621170061, fmeasure=0.7736035102749244)), 'rouge2': AggregateScore(low=Score(precision=0.5816602754625324, recall=0.585803437967115, fmeasure=0.580197171958572), mid=Score(precision=0.6444912430206702, recall=0.647089513625388, fmeasure=0.6432555318333792), high=Score(precision=0.7017348658532969, recall=0.7053851184316432, fmeasure=0.7018065230653566)), 'rougeL': AggregateScore(low=Score(precision=0.6674755815422907, recall=0.6830311685076258, fmeasure=0.662376669217374), mid=Score(precision=0.7220670630067134, recall=0.7353072687153404, fmeasure=0.7176696758755234), high=Score(precision=0.7795360345813868, recall=0.7908160237868755, fmeasure=0.7750093718405009)), 'rougeLsum': AggregateScore(low=Score(precision=0.6717707566045443, recall=0.6878760620296496, fmeasure=0.6647832252238098), mid=Score(precision=0.7251731941430647, recall=0.7369786105772652, fmeasure=0.7193947327633095), high=Score(precision=0.781404901844091, recall=0.7898369020117897, fmeasure=0.7754852709130989))}\n",
          "output_type": "stream"
        }
      ],
      "id": "f47831fd-a967-4165-b6ad-b0d635401db7"
    },
    {
      "cell_type": "code",
      "source": [
        "import torch\n",
        "from transformers import GPT2LMHeadModel, GPT2Tokenizer\n",
        "\n",
        "# Define the device (CPU or GPU)\n",
        "device = torch.device('cuda' if torch.cuda.is_available() else 'cpu')\n",
        "\n",
        "# Define the path where the model is saved\n",
        "load_path = \"/kaggle/working/model.pt\"\n",
        "\n",
        "# Initialize a new model instance and tokenizer\n",
        "model = GPT2LMHeadModel.from_pretrained('gpt2').to(device)  # Move model to GPU\n",
        "tokenizer = GPT2Tokenizer.from_pretrained('gpt2')\n",
        "\n",
        "# Load the state dictionary from the saved file\n",
        "model.load_state_dict(torch.load(load_path, map_location=device))\n",
        "\n",
        "# Assuming input_text is your input text string\n",
        "input_text = \"you can buy the best things  TL;DR\"\n",
        "\n",
        "# Tokenize the input text and move to GPU\n",
        "inputs = tokenizer(input_text, return_tensors='pt').to(device)\n",
        "\n",
        "# Generate output text using the fine-tuned GPT-2 model\n",
        "with torch.no_grad():\n",
        "    outputs = model.generate(\n",
        "        input_ids=inputs['input_ids'],\n",
        "        attention_mask=inputs['attention_mask'],\n",
        "        max_length=150,  # Set the maximum length of the generated text\n",
        "        num_beams=5,  # Adjust the beam search parameters if needed\n",
        "        early_stopping=True,  # Enable early stopping to finish generation when model is confident\n",
        "    )\n",
        "\n",
        "# Decode the generated output tokens back to text\n",
        "generated_text = tokenizer.decode(outputs[0], skip_special_tokens=True)\n",
        "\n",
        "# Extract the summary part after the TL;DR token\n",
        "summary = generated_text.split('TL;DR')[1].strip() if 'TL;DR' in generated_text else generated_text\n",
        "print(\"Generated Summary:\", summary)"
      ],
      "metadata": {
        "id": "3247681c-506c-432d-9cf7-eff67a721aef",
        "outputId": "fac29ef1-4d0c-4470-964a-9ec89fe7c228",
        "execution": {
          "iopub.status.busy": "2024-04-22T21:07:08.569336Z",
          "iopub.execute_input": "2024-04-22T21:07:08.570238Z",
          "iopub.status.idle": "2024-04-22T21:07:09.783464Z",
          "shell.execute_reply.started": "2024-04-22T21:07:08.570202Z",
          "shell.execute_reply": "2024-04-22T21:07:09.782578Z"
        },
        "trusted": true
      },
      "execution_count": null,
      "outputs": [
        {
          "name": "stderr",
          "text": "Setting `pad_token_id` to `eos_token_id`:50256 for open-end generation.\n",
          "output_type": "stream"
        },
        {
          "name": "stdout",
          "text": "Generated Summary: The best\n",
          "output_type": "stream"
        }
      ],
      "id": "3247681c-506c-432d-9cf7-eff67a721aef"
    },
    {
      "cell_type": "code",
      "source": [
        "import torch\n",
        "from transformers import GPT2LMHeadModel, GPT2Tokenizer\n",
        "from nltk.translate.bleu_score import sentence_bleu, SmoothingFunction\n",
        "\n",
        "# Define the device (CPU or GPU)\n",
        "device = torch.device('cuda' if torch.cuda.is_available() else 'cpu')\n",
        "\n",
        "# Define the path where the model is saved\n",
        "load_path = \"/kaggle/working/model.pt\"\n",
        "\n",
        "# Initialize a new model instance and tokenizer\n",
        "model = GPT2LMHeadModel.from_pretrained('gpt2').to(device)  # Move model to GPU\n",
        "tokenizer = GPT2Tokenizer.from_pretrained('gpt2')\n",
        "\n",
        "# Load the state dictionary from the saved file\n",
        "model.load_state_dict(torch.load(load_path, map_location=device))\n",
        "\n",
        "# Assuming input_text is your input text string\n",
        "input_text = \"you can buy the best things TL;DR\"\n",
        "\n",
        "# Tokenize the input text and move to GPU\n",
        "inputs = tokenizer(input_text, return_tensors='pt').to(device)\n",
        "\n",
        "# Generate output text using the fine-tuned GPT-2 model\n",
        "with torch.no_grad():\n",
        "    outputs = model.generate(\n",
        "        input_ids=inputs['input_ids'],\n",
        "        attention_mask=inputs['attention_mask'],\n",
        "        max_length=150,  # Set the maximum length of the generated text\n",
        "        num_beams=5,  # Adjust the beam search parameters if needed\n",
        "        early_stopping=True,  # Enable early stopping to finish generation when model is confident\n",
        "    )\n",
        "\n",
        "# Decode the generated output tokens back to text\n",
        "generated_text = tokenizer.decode(outputs[0], skip_special_tokens=True)\n",
        "\n",
        "# Extract the summary part after the TL;DR token\n",
        "generated_summary = generated_text.split('TL;DR')[1].strip() if 'TL;DR' in generated_text else generated_text\n",
        "print(\"Generated Summary:\", generated_summary)\n",
        "\n",
        "# Define reference summary\n",
        "reference_summary = \"The best things are available for purchase.\"\n",
        "\n",
        "# Calculate BLEU score as a measure of similarity\n",
        "bleu_score = sentence_bleu([reference_summary.split()], generated_summary.split(), smoothing_function=SmoothingFunction().method1)\n",
        "print(\"BLEU Score:\", bleu_score)\n"
      ],
      "metadata": {
        "id": "15c9566e-81f6-4d6f-8180-82198bb4dd46",
        "outputId": "b9d6ec0c-3da6-4357-f8a9-a7a2d0210b1f",
        "execution": {
          "iopub.status.busy": "2024-04-22T21:10:31.281283Z",
          "iopub.execute_input": "2024-04-22T21:10:31.282119Z",
          "iopub.status.idle": "2024-04-22T21:10:32.569308Z",
          "shell.execute_reply.started": "2024-04-22T21:10:31.282081Z",
          "shell.execute_reply": "2024-04-22T21:10:32.568362Z"
        },
        "trusted": true
      },
      "execution_count": null,
      "outputs": [
        {
          "name": "stderr",
          "text": "Setting `pad_token_id` to `eos_token_id`:50256 for open-end generation.\n",
          "output_type": "stream"
        },
        {
          "name": "stdout",
          "text": "Generated Summary: The best\nBLEU Score: 0.025957555738330737\n",
          "output_type": "stream"
        }
      ],
      "id": "15c9566e-81f6-4d6f-8180-82198bb4dd46"
    },
    {
      "cell_type": "code",
      "source": [],
      "metadata": {
        "id": "30b69c0a-fec3-4c32-a1f1-eb1d186544f0"
      },
      "execution_count": null,
      "outputs": [],
      "id": "30b69c0a-fec3-4c32-a1f1-eb1d186544f0"
    },
    {
      "cell_type": "code",
      "source": [],
      "metadata": {
        "id": "f212aa97-8ae2-482c-bc5a-3cdb98b85b41"
      },
      "execution_count": null,
      "outputs": [],
      "id": "f212aa97-8ae2-482c-bc5a-3cdb98b85b41"
    },
    {
      "cell_type": "code",
      "source": [],
      "metadata": {
        "id": "cf37fde9-44de-4a52-835f-d0d49116a904"
      },
      "execution_count": null,
      "outputs": [],
      "id": "cf37fde9-44de-4a52-835f-d0d49116a904"
    },
    {
      "cell_type": "code",
      "source": [],
      "metadata": {
        "id": "64879596-7ec9-4bde-ab69-d144933143dd"
      },
      "execution_count": null,
      "outputs": [],
      "id": "64879596-7ec9-4bde-ab69-d144933143dd"
    },
    {
      "cell_type": "code",
      "source": [],
      "metadata": {
        "id": "d0e3c158-a4e0-4886-ac8b-88c70d73174d"
      },
      "execution_count": null,
      "outputs": [],
      "id": "d0e3c158-a4e0-4886-ac8b-88c70d73174d"
    },
    {
      "cell_type": "code",
      "source": [],
      "metadata": {
        "id": "0534f128-2a15-4365-938c-5765ea345883"
      },
      "execution_count": null,
      "outputs": [],
      "id": "0534f128-2a15-4365-938c-5765ea345883"
    },
    {
      "cell_type": "code",
      "source": [],
      "metadata": {
        "id": "049f9793-7f5e-4438-ae7c-1a3cf3424a75"
      },
      "execution_count": null,
      "outputs": [],
      "id": "049f9793-7f5e-4438-ae7c-1a3cf3424a75"
    },
    {
      "cell_type": "code",
      "source": [],
      "metadata": {
        "id": "44b5462a-bf41-4d8a-a425-6f1aa0318a05"
      },
      "execution_count": null,
      "outputs": [],
      "id": "44b5462a-bf41-4d8a-a425-6f1aa0318a05"
    },
    {
      "cell_type": "code",
      "source": [],
      "metadata": {
        "id": "80ba26d9-9140-4190-b701-37c139763ea8"
      },
      "execution_count": null,
      "outputs": [],
      "id": "80ba26d9-9140-4190-b701-37c139763ea8"
    }
  ]
}